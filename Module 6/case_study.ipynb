{
 "cells": [
  {
   "cell_type": "code",
   "execution_count": 2,
   "metadata": {},
   "outputs": [],
   "source": [
    "import pandas as pd\n",
    "import numpy as np\n",
    "import matplotlib.pyplot as plt\n",
    "import string\n"
   ]
  },
  {
   "cell_type": "code",
   "execution_count": 67,
   "metadata": {},
   "outputs": [],
   "source": [
    "dtypes = {\"issue_d\":\"str\", \"earliest_cr_line\":\"str\", \"last_pymnt_d\":\"str\", \"next_pymnt_d\":\"str\", \"last_credit_pull_d\":\"str\"}\n",
    "df = pd.read_csv(\"/Users/partwalk/Projects/Upgrad/loan.csv\", dtype=dtypes)"
   ]
  },
  {
   "cell_type": "code",
   "execution_count": 68,
   "metadata": {},
   "outputs": [],
   "source": [
    "# Drop the columns with only NaN values\n",
    "\n",
    "for x in df.columns:\n",
    "    if df[x].isnull().all():\n",
    "        df.drop(x, axis=1, inplace=True)"
   ]
  },
  {
   "cell_type": "code",
   "execution_count": 80,
   "metadata": {},
   "outputs": [
    {
     "name": "stdout",
     "output_type": "stream",
     "text": [
      "pub_rec_bankruptcies [ 0.  1.  2. nan]\n"
     ]
    }
   ],
   "source": [
    "# Checking which columns have a single value, and what the value is\n",
    "\n",
    "for x in df.columns:\n",
    "    if len(df[x].unique()) == 1:\n",
    "        print(x, df[x][0])\n",
    "    elif len(df[x].unique()) == 4:\n",
    "        print(x, df[x].unique())"
   ]
  },
  {
   "cell_type": "code",
   "execution_count": 70,
   "metadata": {},
   "outputs": [],
   "source": [
    "# Deleting the above columns with a single value\n",
    "\n",
    "for x in df.columns:\n",
    "    if len(df[x].unique()) == 1:\n",
    "        df.drop(x, axis=1, inplace=True)"
   ]
  },
  {
   "cell_type": "code",
   "execution_count": 71,
   "metadata": {},
   "outputs": [],
   "source": [
    "# Dropping since these 3 columns only have values of 0 or NaN. next_pymnt_d has values either 'Jun-16' or 'Jul-16'\n",
    "df.drop(['collections_12_mths_ex_med', 'chargeoff_within_12_mths', 'tax_liens', 'next_pymnt_d'], axis=1, inplace=True)"
   ]
  },
  {
   "cell_type": "code",
   "execution_count": 14,
   "metadata": {},
   "outputs": [],
   "source": [
    "# These are unnecessary, but not dropping them right now\n",
    "\n",
    "# df.drop(['issue_d', 'url', 'desc', 'title', 'out_prncp', 'out_prncp_inv', 'total_pymnt', 'total_pymnt_inv', 'total_rec_prncp', 'total_rec_int', 'total_rec_late_fee', 'recoveries', 'collection_recovery_fee', 'last_pymnt_d', 'last_pymnt_amnt', 'last_credit_pull_d'], axis=1, inplace=True)"
   ]
  },
  {
   "cell_type": "code",
   "execution_count": 72,
   "metadata": {},
   "outputs": [
    {
     "name": "stdout",
     "output_type": "stream",
     "text": [
      "mths_since_last_delinq 64.66248709620565\n",
      "mths_since_last_record 92.98537150338646\n"
     ]
    }
   ],
   "source": [
    "# Which columns have a mojority null values\n",
    "\n",
    "for x in df.columns:\n",
    "    percent_null = (df[x].isnull().sum() * 100) / df.shape[0]\n",
    "    if percent_null > 50:\n",
    "        print(x, percent_null)"
   ]
  },
  {
   "cell_type": "code",
   "execution_count": 73,
   "metadata": {},
   "outputs": [],
   "source": [
    "# Change int_rate and revol_util, which are percentages, to float\n",
    "\n",
    "df['int_rate'] = df['int_rate'].str.strip(' %').astype('float') / 100\n",
    "df['revol_util'] = df['revol_util'].str.strip(' %').astype('float') / 100"
   ]
  },
  {
   "cell_type": "code",
   "execution_count": 75,
   "metadata": {},
   "outputs": [],
   "source": [
    "# Change 'term' column to int64\n",
    "\n",
    "if all(df['term'].str.endswith('months')):\n",
    "    df['term'] = pd.to_numeric(df['term'].str.strip(' months'))"
   ]
  },
  {
   "cell_type": "code",
   "execution_count": 76,
   "metadata": {},
   "outputs": [],
   "source": [
    "# Chane employee_length to float\n",
    "\n",
    "df['emp_length'] = df['emp_length'].str.strip(' years')\n",
    "df['emp_length'] = df['emp_length'].str.strip(' year')\n",
    "df['emp_length'] = df['emp_length'].str.strip('+')\n",
    "df['emp_length'] = df['emp_length'].apply(lambda x: 0 if x == '< 1' else x)\n",
    "df['emp_length'] = pd.to_numeric(df['emp_length'])\n"
   ]
  },
  {
   "cell_type": "code",
   "execution_count": 49,
   "metadata": {},
   "outputs": [
    {
     "data": {
      "text/plain": [
       "home_ownership  loan_status\n",
       "MORTGAGE        Fully Paid     0.832097\n",
       "                Charged Off    0.131774\n",
       "                Current        0.036129\n",
       "NONE            Fully Paid     1.000000\n",
       "OTHER           Fully Paid     0.816327\n",
       "                Charged Off    0.183673\n",
       "OWN             Fully Paid     0.827992\n",
       "                Charged Off    0.144866\n",
       "                Current        0.027142\n",
       "RENT            Fully Paid     0.827610\n",
       "                Charged Off    0.150220\n",
       "                Current        0.022170\n",
       "Name: proportion, dtype: float64"
      ]
     },
     "execution_count": 49,
     "metadata": {},
     "output_type": "execute_result"
    }
   ],
   "source": [
    "df.groupby('home_ownership')['loan_status'].value_counts(normalize=True, dropna=True)"
   ]
  },
  {
   "cell_type": "markdown",
   "metadata": {},
   "source": [
    "Per above, 18.3% of people who listed 'OTHER' under home ownership defaulted their loan.\n",
    "Comparitively, of the people who rented/mortgaged/owned homes, the default rate was at most 15%.\n",
    "The 'OTHER' category can be seen as a risk factor for delinquency.\n"
   ]
  },
  {
   "cell_type": "code",
   "execution_count": 128,
   "metadata": {},
   "outputs": [
    {
     "data": {
      "text/plain": [
       "purpose\n",
       "small_business        0.259847\n",
       "renewable_energy      0.184466\n",
       "educational           0.172308\n",
       "other                 0.158527\n",
       "moving                0.157804\n",
       "house                 0.154856\n",
       "medical               0.152958\n",
       "debt_consolidation    0.148436\n",
       "vacation              0.139108\n",
       "home_improvement      0.116599\n",
       "credit_card           0.105653\n",
       "car                   0.103292\n",
       "major_purchase        0.101509\n",
       "wedding               0.101373\n",
       "Name: proportion, dtype: float64"
      ]
     },
     "execution_count": 128,
     "metadata": {},
     "output_type": "execute_result"
    }
   ],
   "source": [
    "c = df.groupby('purpose')['loan_status'].value_counts(normalize=True, dropna=True)\n",
    "c.xs('Charged Off', level=1).sort_values(ascending=False)"
   ]
  },
  {
   "cell_type": "markdown",
   "metadata": {},
   "source": [
    "26% of all loans taken for Small Businesses end in default.\n",
    "Renewable Energy, Educational, Other, Moving, House, and Medical loans all have a default rate above 15%."
   ]
  },
  {
   "cell_type": "code",
   "execution_count": 126,
   "metadata": {},
   "outputs": [
    {
     "data": {
      "text/plain": [
       "verification_status  loan_status\n",
       "Not Verified         Fully Paid     0.859996\n",
       "                     Charged Off    0.126588\n",
       "                     Current        0.013415\n",
       "Source Verified      Fully Paid     0.825373\n",
       "                     Charged Off    0.143587\n",
       "                     Current        0.031040\n",
       "Verified             Fully Paid     0.792802\n",
       "                     Charged Off    0.160122\n",
       "                     Current        0.047076\n",
       "Name: proportion, dtype: float64"
      ]
     },
     "execution_count": 126,
     "metadata": {},
     "output_type": "execute_result"
    }
   ],
   "source": [
    "df.groupby('verification_status')['loan_status'].value_counts(normalize=True, dropna=True)\n"
   ]
  },
  {
   "cell_type": "markdown",
   "metadata": {},
   "source": [
    "Both Verified and Source Verified have a higher default rate than Not Verified status. This could be because the lender places too much of an emphasis on verification,\n",
    "leading them to take a greater risk on borrowers with verified incomes. This risk is not justified. \n",
    "One way of reducing defaults would be to decrease the importance of verification in their decision matrix."
   ]
  },
  {
   "cell_type": "code",
   "execution_count": 77,
   "metadata": {},
   "outputs": [
    {
     "data": {
      "text/plain": [
       "grade  loan_status\n",
       "A      Fully Paid     0.936341\n",
       "       Charged Off    0.059693\n",
       "       Current        0.003966\n",
       "B      Fully Paid     0.852745\n",
       "       Charged Off    0.118552\n",
       "       Current        0.028702\n",
       "C      Fully Paid     0.801062\n",
       "       Charged Off    0.166337\n",
       "       Current        0.032601\n",
       "D      Fully Paid     0.747503\n",
       "       Charged Off    0.210665\n",
       "       Current        0.041832\n",
       "E      Fully Paid     0.685433\n",
       "       Charged Off    0.251583\n",
       "       Current        0.062984\n",
       "F      Fully Paid     0.626311\n",
       "       Charged Off    0.304099\n",
       "       Current        0.069590\n",
       "G      Fully Paid     0.626582\n",
       "       Charged Off    0.319620\n",
       "       Current        0.053797\n",
       "Name: proportion, dtype: float64"
      ]
     },
     "execution_count": 77,
     "metadata": {},
     "output_type": "execute_result"
    }
   ],
   "source": [
    "df.groupby('grade')['loan_status'].value_counts(normalize=True, dropna=True)"
   ]
  },
  {
   "cell_type": "code",
   "execution_count": 60,
   "metadata": {},
   "outputs": [
    {
     "data": {
      "text/plain": [
       "np.float64(0.1904093598280218)"
      ]
     },
     "execution_count": 60,
     "metadata": {},
     "output_type": "execute_result"
    }
   ],
   "source": [
    "# Convert loan_status to a binary: 1 for default, 0 for no\n",
    "defaulted = df['loan_status'].apply(lambda x: 1 if x == 'Charged Off' else 0)\n",
    "# Convert grades to its numeric value\n",
    "grade_num = df['grade'].apply(lambda x: string.ascii_uppercase.index(x))\n",
    "grade_num.corr(defaulted)"
   ]
  },
  {
   "cell_type": "markdown",
   "metadata": {},
   "source": [
    "As the grade decreases in quality, the rate of default shoots up from 5% of Grade A loans to 32% of Grade G loans.\n",
    "The correlation coefficient of grade vs loan_status is 0.19, which is higher than term and revol_util.\n",
    "Grade is an extremely strong predictor of delinquency."
   ]
  },
  {
   "cell_type": "code",
   "execution_count": 58,
   "metadata": {},
   "outputs": [],
   "source": [
    "# Finding the correlation between loan_status and DTI\n",
    "\n",
    "defaulted = df['loan_status'].apply(lambda x: 1 if x == 'Charged Off' else 0)"
   ]
  },
  {
   "cell_type": "code",
   "execution_count": 81,
   "metadata": {},
   "outputs": [
    {
     "data": {
      "text/plain": [
       "[(np.float64(-0.3350189558357645), 'total_rec_prncp'),\n",
       " (np.float64(-0.23884351067418763), 'total_pymnt'),\n",
       " (np.float64(-0.23623247297689037), 'total_pymnt_inv'),\n",
       " (np.float64(-0.2149492862554395), 'last_pymnt_amnt'),\n",
       " (np.float64(-0.0554760435362905), 'out_prncp'),\n",
       " (np.float64(-0.055417349464572344), 'out_prncp_inv'),\n",
       " (np.float64(-0.04166180205780614), 'annual_inc'),\n",
       " (np.float64(-0.02356265946099974), 'total_acc'),\n",
       " (np.float64(-0.010780379617828137), 'total_rec_int'),\n",
       " (np.float64(-0.010741653768281402), 'open_acc'),\n",
       " (np.float64(0.0033688357297216513), 'revol_bal'),\n",
       " (np.float64(0.004941107969798992), 'mths_since_last_delinq'),\n",
       " (np.float64(0.012159760102357265), 'emp_length'),\n",
       " (np.float64(0.019904373876979374), 'delinq_2yrs'),\n",
       " (np.float64(0.02258872906287438), 'installment'),\n",
       " (np.float64(0.026438306745475336), 'member_id'),\n",
       " (np.float64(0.026620704677503527), 'funded_amnt_inv'),\n",
       " (np.float64(0.02836956551416956), 'id'),\n",
       " (np.float64(0.041701263672025236), 'dti'),\n",
       " (np.float64(0.045544292158246014), 'funded_amnt'),\n",
       " (np.float64(0.04743298392137353), 'pub_rec_bankruptcies'),\n",
       " (np.float64(0.04821697059444902), 'loan_amnt'),\n",
       " (np.float64(0.050880274386953146), 'pub_rec'),\n",
       " (np.float64(0.05817427157514106), 'mths_since_last_record'),\n",
       " (np.float64(0.07171659645222105), 'inq_last_6mths'),\n",
       " (np.float64(0.09656039122666911), 'revol_util'),\n",
       " (np.float64(0.146038337294445), 'term'),\n",
       " (np.float64(0.16322083103277862), 'total_rec_late_fee'),\n",
       " (np.float64(0.19625344277278386), 'int_rate'),\n",
       " (np.float64(0.20539421535573557), 'collection_recovery_fee'),\n",
       " (np.float64(0.3402967326967604), 'recoveries')]"
      ]
     },
     "execution_count": 81,
     "metadata": {},
     "output_type": "execute_result"
    }
   ],
   "source": [
    "#  Finding the correlation between loan_status and DTI\n",
    "arr = []\n",
    "for i in df.columns:\n",
    "    try:\n",
    "        arr.append((df[i].corr(defaulted), i))\n",
    "    except:\n",
    "        continue\n",
    "sorted(arr)"
   ]
  },
  {
   "cell_type": "markdown",
   "metadata": {},
   "source": [
    "Ignoring the confounders and non-predictive variables such as total_pymnt and recoveries,  annual income is slightly negatively correlated, implying that higher income is associated with lesser delinquency.\n",
    "On the other hand, term is positively correlated, implying that borrowers who opt for longer terms are more likely to default.\n",
    "The utilization rate revol_util is also positively correlated, implying that those who use more credit, and thus are more dependent on it, are more likely to default."
   ]
  },
  {
   "cell_type": "code",
   "execution_count": 84,
   "metadata": {},
   "outputs": [],
   "source": [
    "defaulters = df[df['loan_status'] == 'Charged Off']\n",
    "fully_paid = df[df['loan_status'] == 'Fully Paid']\n",
    "current = df[df['loan_status'] == 'Current']"
   ]
  },
  {
   "cell_type": "code",
   "execution_count": 122,
   "metadata": {},
   "outputs": [
    {
     "data": {
      "text/html": [
       "<div>\n",
       "<style scoped>\n",
       "    .dataframe tbody tr th:only-of-type {\n",
       "        vertical-align: middle;\n",
       "    }\n",
       "\n",
       "    .dataframe tbody tr th {\n",
       "        vertical-align: top;\n",
       "    }\n",
       "\n",
       "    .dataframe thead th {\n",
       "        text-align: right;\n",
       "    }\n",
       "</style>\n",
       "<table border=\"1\" class=\"dataframe\">\n",
       "  <thead>\n",
       "    <tr style=\"text-align: right;\">\n",
       "      <th></th>\n",
       "      <th>addr_state</th>\n",
       "      <th>frequency_x</th>\n",
       "      <th>rank_x</th>\n",
       "      <th>frequency_y</th>\n",
       "      <th>rank_y</th>\n",
       "    </tr>\n",
       "  </thead>\n",
       "  <tbody>\n",
       "    <tr>\n",
       "      <th>4</th>\n",
       "      <td>CA</td>\n",
       "      <td>1125.0</td>\n",
       "      <td>1.0</td>\n",
       "      <td>5824</td>\n",
       "      <td>1.0</td>\n",
       "    </tr>\n",
       "    <tr>\n",
       "      <th>9</th>\n",
       "      <td>FL</td>\n",
       "      <td>504.0</td>\n",
       "      <td>2.0</td>\n",
       "      <td>2277</td>\n",
       "      <td>4.0</td>\n",
       "    </tr>\n",
       "    <tr>\n",
       "      <th>33</th>\n",
       "      <td>NY</td>\n",
       "      <td>495.0</td>\n",
       "      <td>3.0</td>\n",
       "      <td>3203</td>\n",
       "      <td>2.0</td>\n",
       "    </tr>\n",
       "    <tr>\n",
       "      <th>42</th>\n",
       "      <td>TX</td>\n",
       "      <td>316.0</td>\n",
       "      <td>4.0</td>\n",
       "      <td>2343</td>\n",
       "      <td>3.0</td>\n",
       "    </tr>\n",
       "    <tr>\n",
       "      <th>30</th>\n",
       "      <td>NJ</td>\n",
       "      <td>278.0</td>\n",
       "      <td>5.0</td>\n",
       "      <td>1512</td>\n",
       "      <td>5.0</td>\n",
       "    </tr>\n",
       "    <tr>\n",
       "      <th>10</th>\n",
       "      <td>GA</td>\n",
       "      <td>215.0</td>\n",
       "      <td>6.0</td>\n",
       "      <td>1144</td>\n",
       "      <td>9.0</td>\n",
       "    </tr>\n",
       "    <tr>\n",
       "      <th>14</th>\n",
       "      <td>IL</td>\n",
       "      <td>197.0</td>\n",
       "      <td>7.0</td>\n",
       "      <td>1281</td>\n",
       "      <td>7.0</td>\n",
       "    </tr>\n",
       "    <tr>\n",
       "      <th>37</th>\n",
       "      <td>PA</td>\n",
       "      <td>180.0</td>\n",
       "      <td>8.0</td>\n",
       "      <td>1288</td>\n",
       "      <td>6.0</td>\n",
       "    </tr>\n",
       "    <tr>\n",
       "      <th>44</th>\n",
       "      <td>VA</td>\n",
       "      <td>177.0</td>\n",
       "      <td>9.0</td>\n",
       "      <td>1192</td>\n",
       "      <td>8.0</td>\n",
       "    </tr>\n",
       "    <tr>\n",
       "      <th>20</th>\n",
       "      <td>MD</td>\n",
       "      <td>162.0</td>\n",
       "      <td>10.0</td>\n",
       "      <td>861</td>\n",
       "      <td>12.0</td>\n",
       "    </tr>\n",
       "  </tbody>\n",
       "</table>\n",
       "</div>"
      ],
      "text/plain": [
       "   addr_state  frequency_x  rank_x  frequency_y  rank_y\n",
       "4          CA       1125.0     1.0         5824     1.0\n",
       "9          FL        504.0     2.0         2277     4.0\n",
       "33         NY        495.0     3.0         3203     2.0\n",
       "42         TX        316.0     4.0         2343     3.0\n",
       "30         NJ        278.0     5.0         1512     5.0\n",
       "10         GA        215.0     6.0         1144     9.0\n",
       "14         IL        197.0     7.0         1281     7.0\n",
       "37         PA        180.0     8.0         1288     6.0\n",
       "44         VA        177.0     9.0         1192     8.0\n",
       "20         MD        162.0    10.0          861    12.0"
      ]
     },
     "execution_count": 122,
     "metadata": {},
     "output_type": "execute_result"
    }
   ],
   "source": [
    "cname = 'addr_state'\n",
    "freq = defaulters[cname].value_counts()\n",
    "\n",
    "defstate = freq.reset_index()\n",
    "defstate.columns = [cname, 'frequency']\n",
    "defstate['rank'] = defstate['frequency'].rank(method='first', ascending=False)\n",
    "\n",
    "freq = fully_paid[cname].value_counts()\n",
    "\n",
    "paidstate = freq.reset_index()\n",
    "paidstate.columns = [cname, 'frequency']\n",
    "paidstate['rank'] = paidstate['frequency'].rank(method='first', ascending=False)\n",
    "\n",
    "defstate.merge(paidstate, on=cname, how='outer').sort_values('rank_x').head(10)"
   ]
  },
  {
   "cell_type": "markdown",
   "metadata": {},
   "source": [
    "California is rank 1 among defaulters' state, but it's also the highest among the non-defaulters. This is probably because it has the highest population.\n",
    "The top 5 states are all in the top 10 most populated states in the US. No great delta between the two ranks, either.\n",
    "\n",
    "We could look at lower ranked states, but that has the problem of fewer sample size. We don't want to draw strong conclusions based on small sample size when it comes to states,\n",
    "since writing off entire states could lead to major loss of business.\n"
   ]
  },
  {
   "cell_type": "code",
   "execution_count": 123,
   "metadata": {},
   "outputs": [
    {
     "data": {
      "text/html": [
       "<div>\n",
       "<style scoped>\n",
       "    .dataframe tbody tr th:only-of-type {\n",
       "        vertical-align: middle;\n",
       "    }\n",
       "\n",
       "    .dataframe tbody tr th {\n",
       "        vertical-align: top;\n",
       "    }\n",
       "\n",
       "    .dataframe thead th {\n",
       "        text-align: right;\n",
       "    }\n",
       "</style>\n",
       "<table border=\"1\" class=\"dataframe\">\n",
       "  <thead>\n",
       "    <tr style=\"text-align: right;\">\n",
       "      <th></th>\n",
       "      <th>zip_code</th>\n",
       "      <th>frequency_x</th>\n",
       "      <th>rank_x</th>\n",
       "      <th>frequency_y</th>\n",
       "      <th>rank_y</th>\n",
       "    </tr>\n",
       "  </thead>\n",
       "  <tbody>\n",
       "    <tr>\n",
       "      <th>773</th>\n",
       "      <td>945xx</td>\n",
       "      <td>80.0</td>\n",
       "      <td>1.0</td>\n",
       "      <td>451.0</td>\n",
       "      <td>2.0</td>\n",
       "    </tr>\n",
       "    <tr>\n",
       "      <th>748</th>\n",
       "      <td>917xx</td>\n",
       "      <td>71.0</td>\n",
       "      <td>2.0</td>\n",
       "      <td>269.0</td>\n",
       "      <td>14.0</td>\n",
       "    </tr>\n",
       "    <tr>\n",
       "      <th>74</th>\n",
       "      <td>100xx</td>\n",
       "      <td>70.0</td>\n",
       "      <td>3.0</td>\n",
       "      <td>513.0</td>\n",
       "      <td>1.0</td>\n",
       "    </tr>\n",
       "    <tr>\n",
       "      <th>298</th>\n",
       "      <td>331xx</td>\n",
       "      <td>70.0</td>\n",
       "      <td>4.0</td>\n",
       "      <td>267.0</td>\n",
       "      <td>15.0</td>\n",
       "    </tr>\n",
       "    <tr>\n",
       "      <th>757</th>\n",
       "      <td>926xx</td>\n",
       "      <td>67.0</td>\n",
       "      <td>5.0</td>\n",
       "      <td>299.0</td>\n",
       "      <td>11.0</td>\n",
       "    </tr>\n",
       "    <tr>\n",
       "      <th>86</th>\n",
       "      <td>112xx</td>\n",
       "      <td>65.0</td>\n",
       "      <td>6.0</td>\n",
       "      <td>437.0</td>\n",
       "      <td>4.0</td>\n",
       "    </tr>\n",
       "    <tr>\n",
       "      <th>50</th>\n",
       "      <td>070xx</td>\n",
       "      <td>65.0</td>\n",
       "      <td>7.0</td>\n",
       "      <td>390.0</td>\n",
       "      <td>5.0</td>\n",
       "    </tr>\n",
       "    <tr>\n",
       "      <th>727</th>\n",
       "      <td>891xx</td>\n",
       "      <td>64.0</td>\n",
       "      <td>8.0</td>\n",
       "      <td>178.0</td>\n",
       "      <td>33.0</td>\n",
       "    </tr>\n",
       "    <tr>\n",
       "      <th>733</th>\n",
       "      <td>900xx</td>\n",
       "      <td>64.0</td>\n",
       "      <td>9.0</td>\n",
       "      <td>382.0</td>\n",
       "      <td>6.0</td>\n",
       "    </tr>\n",
       "    <tr>\n",
       "      <th>268</th>\n",
       "      <td>300xx</td>\n",
       "      <td>52.0</td>\n",
       "      <td>10.0</td>\n",
       "      <td>331.0</td>\n",
       "      <td>8.0</td>\n",
       "    </tr>\n",
       "  </tbody>\n",
       "</table>\n",
       "</div>"
      ],
      "text/plain": [
       "    zip_code  frequency_x  rank_x  frequency_y  rank_y\n",
       "773    945xx         80.0     1.0        451.0     2.0\n",
       "748    917xx         71.0     2.0        269.0    14.0\n",
       "74     100xx         70.0     3.0        513.0     1.0\n",
       "298    331xx         70.0     4.0        267.0    15.0\n",
       "757    926xx         67.0     5.0        299.0    11.0\n",
       "86     112xx         65.0     6.0        437.0     4.0\n",
       "50     070xx         65.0     7.0        390.0     5.0\n",
       "727    891xx         64.0     8.0        178.0    33.0\n",
       "733    900xx         64.0     9.0        382.0     6.0\n",
       "268    300xx         52.0    10.0        331.0     8.0"
      ]
     },
     "execution_count": 123,
     "metadata": {},
     "output_type": "execute_result"
    }
   ],
   "source": [
    "cname = 'zip_code'\n",
    "freq = defaulters[cname].value_counts()\n",
    "\n",
    "defrank = freq.reset_index()\n",
    "defrank.columns = [cname, 'frequency']\n",
    "defrank['rank'] = defrank['frequency'].rank(method='first', ascending=False)\n",
    "\n",
    "freq = fully_paid[cname].value_counts()\n",
    "\n",
    "paidrank = freq.reset_index()\n",
    "paidrank.columns = [cname, 'frequency']\n",
    "paidrank['rank'] = paidrank['frequency'].rank(method='first', ascending=False)\n",
    "\n",
    "defrank.merge(paidrank, on='zip_code', how='outer').sort_values('rank_x').head(10)"
   ]
  },
  {
   "cell_type": "markdown",
   "metadata": {},
   "source": [
    "Zipcodes has the same problem as states; the highest ranks would all bias toward those areas with greater population.\n",
    "But we can look at the delta between the two ranks.\n",
    "Zipcodes beginning with 917, 331, 926 and especially 891 contain a higher proportion of defaulters, compared to other zipcodes like 945 and 100.\n",
    "These zipcodes have a far greater frequency amongst deliquents, as shown by the difference in rank_x and rank_y.\n",
    "\n",
    "We don't look at ranks below 10 for similar reasons as given for states."
   ]
  },
  {
   "cell_type": "code",
   "execution_count": 87,
   "metadata": {},
   "outputs": [
    {
     "data": {
      "image/png": "[encoded data removed]",
      "text/plain": [
       "<Figure size 720x720 with 1 Axes>"
      ]
     },
     "metadata": {
      "needs_background": "light"
     },
     "output_type": "display_data"
    }
   ],
   "source": [
    "def boxplt(cname, ylabel):\n",
    "    data = [fully_paid[fully_paid[cname].notna()][cname], defaulters[defaulters[cname].notna()][cname], current[current[cname].notna()][cname]]\n",
    "    plt.figure(figsize=(10, 10))\n",
    "    plt.boxplot(data, tick_labels=['Fully Paid', 'Charged Off', 'Current'])\n",
    "    plt.title(ylabel + ' Segmented by Loan Status')\n",
    "    plt.xlabel('Loan Status')\n",
    "    plt.ylabel(ylabel)\n",
    "    # plt.yscale('log')\n",
    "    plt.show()\n",
    "\n",
    "boxplt('revol_util', 'Revolving Line Utilization Rate')"
   ]
  },
  {
   "cell_type": "markdown",
   "metadata": {},
   "source": [
    "There doesn't seem to be a lot of difference between the annual incomes of people who paid off their loans and those who defaulted. Both cohorts have similar levels of low income. The median is slightly higher for the fully paid cohort, but not enought to be significant. Both have similar first and third quartiles. There's a lot more diversity in the range of incomes among both groups. In contrast, the group paying off open loans on time has a smaller range of incomes. The 'Fully Paid' group has, at the higher end, far greater income than the other two groups, which is as expected. High-income people would be most capable of paying off loans.\n",
    "\n",
    "The DTI boxplot segmented by Loan Status is similar. The quartiles for defaulters is higher than for \"Fully Paid\", but lower than \"Current\". It's hard to draw a strong conclusion from this.\n",
    "\n",
    "Employee Length, Months Since Last Default, and Total Number of Credit Lines have similarly weak evidence.\n",
    "\n",
    "The Revolving Line Utilization Rate (RLUR) is significantly higher for deliquient borrowers than for other groups. While the minima and maxima are similar for all groups, all three quartiles are higher for deliquients compared to the other two groups.\n"
   ]
  }
 ],
 "metadata": {
  "kernelspec": {
   "display_name": "Python 3",
   "language": "python",
   "name": "python3"
  },
  "language_info": {
   "codemirror_mode": {
    "name": "ipython",
    "version": 3
   },
   "file_extension": ".py",
   "mimetype": "text/x-python",
   "name": "python",
   "nbconvert_exporter": "python",
   "pygments_lexer": "ipython3",
   "version": "3.9.19"
  }
 },
 "nbformat": 4,
 "nbformat_minor": 2
}
