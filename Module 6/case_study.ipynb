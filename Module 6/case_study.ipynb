{
 "cells": [
  {
   "cell_type": "code",
   "execution_count": 1,
   "metadata": {},
   "outputs": [],
   "source": [
    "import pandas as pd\n",
    "import numpy as np\n",
    "import matplotlib.pyplot as plt\n",
    "import string\n"
   ]
  },
  {
   "cell_type": "code",
   "execution_count": 326,
   "metadata": {},
   "outputs": [],
   "source": [
    "# Note that this reads \"Dec-62\" as 2062-12-01. By default pd.to_datetime assumes 21st century up to 2068.\n",
    "# I tried defining a custom date parser, but that slowed read_csv down considerably.\n",
    "# We will fix this later.\n",
    "\n",
    "parse_dates = [\"issue_d\", \"earliest_cr_line\", \"last_pymnt_d\", \"next_pymnt_d\", \"last_credit_pull_d\"]\n",
    "\n",
    "df = pd.read_csv(\"/Users/partwalk/Projects/Upgrad/loan.csv\", date_format=\"%b-%y\", parse_dates=parse_dates)"
   ]
  },
  {
   "cell_type": "code",
   "execution_count": 327,
   "metadata": {},
   "outputs": [],
   "source": [
    "# Drop the columns with only NaN values\n",
    "\n",
    "for x in df.columns:\n",
    "    if df[x].isnull().all():\n",
    "        df.drop(x, axis=1, inplace=True)"
   ]
  },
  {
   "cell_type": "code",
   "execution_count": 328,
   "metadata": {},
   "outputs": [
    {
     "name": "stdout",
     "output_type": "stream",
     "text": [
      "pymnt_plan n\n",
      "initial_list_status f\n",
      "policy_code 1\n",
      "application_type INDIVIDUAL\n",
      "acc_now_delinq 0\n",
      "delinq_amnt 0\n"
     ]
    }
   ],
   "source": [
    "# Checking which columns have a single value, and what the value is\n",
    "\n",
    "for x in df.columns:\n",
    "    if len(df[x].unique()) == 1:\n",
    "        print(x, df[x][0])\n",
    "    elif len(df[x].unique()) == 6:\n",
    "        print(x, df[x].unique())"
   ]
  },
  {
   "cell_type": "code",
   "execution_count": 329,
   "metadata": {},
   "outputs": [],
   "source": [
    "# Deleting the above columns with a single value\n",
    "\n",
    "for x in df.columns:\n",
    "    if len(df[x].unique()) == 1:\n",
    "        df.drop(x, axis=1, inplace=True)"
   ]
  },
  {
   "cell_type": "code",
   "execution_count": 330,
   "metadata": {},
   "outputs": [],
   "source": [
    "# Dropping since these 3 columns only have values of 0 or NaN. next_pymnt_d has values either 'Jun-16' or 'Jul-16'\n",
    "df.drop(['collections_12_mths_ex_med', 'chargeoff_within_12_mths', 'tax_liens', 'next_pymnt_d'], axis=1, inplace=True)"
   ]
  },
  {
   "cell_type": "code",
   "execution_count": 331,
   "metadata": {},
   "outputs": [
    {
     "name": "stdout",
     "output_type": "stream",
     "text": [
      "mths_since_last_delinq 64.66248709620565\n",
      "mths_since_last_record 92.98537150338646\n"
     ]
    }
   ],
   "source": [
    "# Which columns have a majority null values\n",
    "\n",
    "for x in df.columns:\n",
    "    percent_null = (df[x].isnull().sum() * 100) / df.shape[0]\n",
    "    if percent_null > 50:\n",
    "        print(x, percent_null)"
   ]
  },
  {
   "cell_type": "code",
   "execution_count": 332,
   "metadata": {},
   "outputs": [],
   "source": [
    "# Change int_rate and revol_util, which are percentages, to float\n",
    "\n",
    "df['int_rate'] = df['int_rate'].str.strip(' %').astype('float') / 100\n",
    "df['revol_util'] = df['revol_util'].str.strip(' %').astype('float') / 100"
   ]
  },
  {
   "cell_type": "code",
   "execution_count": 333,
   "metadata": {},
   "outputs": [],
   "source": [
    "# Change 'term' column to int64\n",
    "\n",
    "if all(df['term'].str.endswith('months')):\n",
    "    df['term'] = pd.to_numeric(df['term'].str.strip(' months'))"
   ]
  },
  {
   "cell_type": "code",
   "execution_count": 334,
   "metadata": {},
   "outputs": [],
   "source": [
    "# Cleaning the description column\n",
    "# Removing the trailing br tag and \"Borrower added... >\"\n",
    "\n",
    "df['desc'] = df['desc'].str.replace('<br>','').str.replace('.*> ','', regex=True).str.strip()"
   ]
  },
  {
   "cell_type": "code",
   "execution_count": 335,
   "metadata": {},
   "outputs": [],
   "source": [
    "# Chane employee_length to float\n",
    "\n",
    "df['emp_length'] = df['emp_length'].str.strip(' years')\n",
    "df['emp_length'] = df['emp_length'].str.strip(' year')\n",
    "df['emp_length'] = df['emp_length'].str.strip('+')\n",
    "df['emp_length'] = df['emp_length'].apply(lambda x: 0 if x == '< 1' else x)\n",
    "df['emp_length'] = pd.to_numeric(df['emp_length'])\n"
   ]
  },
  {
   "cell_type": "code",
   "execution_count": 339,
   "metadata": {},
   "outputs": [
    {
     "data": {
      "text/plain": [
       "count                     90\n",
       "mean     2065-05-05 03:44:00\n",
       "min      2046-01-01 00:00:00\n",
       "25%      2063-12-31 12:00:00\n",
       "50%      2066-03-16 12:00:00\n",
       "75%      2067-10-24 06:00:00\n",
       "max      2068-12-01 00:00:00\n",
       "Name: earliest_cr_line, dtype: object"
      ]
     },
     "execution_count": 339,
     "metadata": {},
     "output_type": "execute_result"
    }
   ],
   "source": [
    "# Fixing dates\n",
    "# To check if condition > 2016 gives the correct subset\n",
    "mask = df['earliest_cr_line'].dt.year > 2016\n",
    "df[mask]['earliest_cr_line'].describe()"
   ]
  },
  {
   "cell_type": "code",
   "execution_count": 341,
   "metadata": {},
   "outputs": [],
   "source": [
    "df.loc[mask, 'earliest_cr_line'] = df.loc[mask, 'earliest_cr_line'] - pd.DateOffset(years=100)"
   ]
  },
  {
   "cell_type": "code",
   "execution_count": 49,
   "metadata": {},
   "outputs": [
    {
     "data": {
      "text/plain": [
       "home_ownership  loan_status\n",
       "MORTGAGE        Fully Paid     0.832097\n",
       "                Charged Off    0.131774\n",
       "                Current        0.036129\n",
       "NONE            Fully Paid     1.000000\n",
       "OTHER           Fully Paid     0.816327\n",
       "                Charged Off    0.183673\n",
       "OWN             Fully Paid     0.827992\n",
       "                Charged Off    0.144866\n",
       "                Current        0.027142\n",
       "RENT            Fully Paid     0.827610\n",
       "                Charged Off    0.150220\n",
       "                Current        0.022170\n",
       "Name: proportion, dtype: float64"
      ]
     },
     "execution_count": 49,
     "metadata": {},
     "output_type": "execute_result"
    }
   ],
   "source": [
    "df.groupby('home_ownership')['loan_status'].value_counts(normalize=True, dropna=True)"
   ]
  },
  {
   "cell_type": "markdown",
   "metadata": {},
   "source": [
    "Per above, 18.3% of people who listed 'OTHER' under home ownership defaulted their loan.\n",
    "Comparitively, of the people who rented/mortgaged/owned homes, the default rate was at most 15%.\n",
    "The 'OTHER' category can be seen as a risk factor for delinquency.\n"
   ]
  },
  {
   "cell_type": "code",
   "execution_count": 254,
   "metadata": {},
   "outputs": [
    {
     "data": {
      "text/plain": [
       "purpose\n",
       "small_business        0.259847\n",
       "renewable_energy      0.184466\n",
       "educational           0.172308\n",
       "other                 0.158527\n",
       "moving                0.157804\n",
       "house                 0.154856\n",
       "medical               0.152958\n",
       "debt_consolidation    0.148436\n",
       "vacation              0.139108\n",
       "home_improvement      0.116599\n",
       "credit_card           0.105653\n",
       "car                   0.103292\n",
       "major_purchase        0.101509\n",
       "wedding               0.101373\n",
       "Name: proportion, dtype: float64"
      ]
     },
     "execution_count": 254,
     "metadata": {},
     "output_type": "execute_result"
    }
   ],
   "source": [
    "c = df.groupby('purpose')['loan_status'].value_counts(normalize=True, dropna=True)\n",
    "c.xs('Charged Off', level=1).sort_values(ascending=False)"
   ]
  },
  {
   "cell_type": "markdown",
   "metadata": {},
   "source": [
    "26% of all loans taken for Small Businesses end in default.\n",
    "Renewable Energy, Educational, Other, Moving, House, and Medical loans all have a default rate above 15%."
   ]
  },
  {
   "cell_type": "code",
   "execution_count": 126,
   "metadata": {},
   "outputs": [
    {
     "data": {
      "text/plain": [
       "verification_status  loan_status\n",
       "Not Verified         Fully Paid     0.859996\n",
       "                     Charged Off    0.126588\n",
       "                     Current        0.013415\n",
       "Source Verified      Fully Paid     0.825373\n",
       "                     Charged Off    0.143587\n",
       "                     Current        0.031040\n",
       "Verified             Fully Paid     0.792802\n",
       "                     Charged Off    0.160122\n",
       "                     Current        0.047076\n",
       "Name: proportion, dtype: float64"
      ]
     },
     "execution_count": 126,
     "metadata": {},
     "output_type": "execute_result"
    }
   ],
   "source": [
    "df.groupby('verification_status')['loan_status'].value_counts(normalize=True, dropna=True)\n"
   ]
  },
  {
   "cell_type": "markdown",
   "metadata": {},
   "source": [
    "Both Verified and Source Verified have a higher default rate than Not Verified status. This could be because the lender places too much of an emphasis on verification,\n",
    "leading them to take a greater risk on borrowers with verified incomes. This risk is not justified. \n",
    "One way of reducing defaults would be to decrease the importance of verification in their decision matrix."
   ]
  },
  {
   "cell_type": "code",
   "execution_count": 234,
   "metadata": {},
   "outputs": [
    {
     "data": {
      "text/plain": [
       "term  loan_status\n",
       "36    Fully Paid     0.889091\n",
       "      Charged Off    0.110909\n",
       "60    Fully Paid     0.666698\n",
       "      Charged Off    0.225967\n",
       "      Current        0.107335\n",
       "Name: proportion, dtype: float64"
      ]
     },
     "execution_count": 234,
     "metadata": {},
     "output_type": "execute_result"
    }
   ],
   "source": [
    "df.groupby('term')['loan_status'].value_counts(normalize=True, dropna=True)"
   ]
  },
  {
   "cell_type": "markdown",
   "metadata": {},
   "source": [
    "Loans with a 60 month term were twice as likely to end in default as loans with 36 month terms."
   ]
  },
  {
   "cell_type": "code",
   "execution_count": 77,
   "metadata": {},
   "outputs": [
    {
     "data": {
      "text/plain": [
       "grade  loan_status\n",
       "A      Fully Paid     0.936341\n",
       "       Charged Off    0.059693\n",
       "       Current        0.003966\n",
       "B      Fully Paid     0.852745\n",
       "       Charged Off    0.118552\n",
       "       Current        0.028702\n",
       "C      Fully Paid     0.801062\n",
       "       Charged Off    0.166337\n",
       "       Current        0.032601\n",
       "D      Fully Paid     0.747503\n",
       "       Charged Off    0.210665\n",
       "       Current        0.041832\n",
       "E      Fully Paid     0.685433\n",
       "       Charged Off    0.251583\n",
       "       Current        0.062984\n",
       "F      Fully Paid     0.626311\n",
       "       Charged Off    0.304099\n",
       "       Current        0.069590\n",
       "G      Fully Paid     0.626582\n",
       "       Charged Off    0.319620\n",
       "       Current        0.053797\n",
       "Name: proportion, dtype: float64"
      ]
     },
     "execution_count": 77,
     "metadata": {},
     "output_type": "execute_result"
    }
   ],
   "source": [
    "df.groupby('grade')['loan_status'].value_counts(normalize=True, dropna=True)"
   ]
  },
  {
   "cell_type": "code",
   "execution_count": 60,
   "metadata": {},
   "outputs": [
    {
     "data": {
      "text/plain": [
       "np.float64(0.1904093598280218)"
      ]
     },
     "execution_count": 60,
     "metadata": {},
     "output_type": "execute_result"
    }
   ],
   "source": [
    "# Convert loan_status to a binary: 1 for default, 0 for no\n",
    "defaulted = df['loan_status'].apply(lambda x: 1 if x == 'Charged Off' else 0)\n",
    "# Convert grades to its numeric value\n",
    "grade_num = df['grade'].apply(lambda x: string.ascii_uppercase.index(x))\n",
    "grade_num.corr(defaulted)"
   ]
  },
  {
   "cell_type": "markdown",
   "metadata": {},
   "source": [
    "As the grade decreases in quality, the rate of default shoots up from 5% of Grade A loans to 32% of Grade G loans.\n",
    "The correlation coefficient of grade vs loan_status is 0.19, which is higher than term and revol_util.\n",
    "Grade is an extremely strong predictor of delinquency."
   ]
  },
  {
   "cell_type": "code",
   "execution_count": 81,
   "metadata": {},
   "outputs": [
    {
     "data": {
      "text/plain": [
       "[(np.float64(-0.3350189558357645), 'total_rec_prncp'),\n",
       " (np.float64(-0.23884351067418763), 'total_pymnt'),\n",
       " (np.float64(-0.23623247297689037), 'total_pymnt_inv'),\n",
       " (np.float64(-0.2149492862554395), 'last_pymnt_amnt'),\n",
       " (np.float64(-0.0554760435362905), 'out_prncp'),\n",
       " (np.float64(-0.055417349464572344), 'out_prncp_inv'),\n",
       " (np.float64(-0.04166180205780614), 'annual_inc'),\n",
       " (np.float64(-0.02356265946099974), 'total_acc'),\n",
       " (np.float64(-0.010780379617828137), 'total_rec_int'),\n",
       " (np.float64(-0.010741653768281402), 'open_acc'),\n",
       " (np.float64(0.0033688357297216513), 'revol_bal'),\n",
       " (np.float64(0.004941107969798992), 'mths_since_last_delinq'),\n",
       " (np.float64(0.012159760102357265), 'emp_length'),\n",
       " (np.float64(0.019904373876979374), 'delinq_2yrs'),\n",
       " (np.float64(0.02258872906287438), 'installment'),\n",
       " (np.float64(0.026438306745475336), 'member_id'),\n",
       " (np.float64(0.026620704677503527), 'funded_amnt_inv'),\n",
       " (np.float64(0.02836956551416956), 'id'),\n",
       " (np.float64(0.041701263672025236), 'dti'),\n",
       " (np.float64(0.045544292158246014), 'funded_amnt'),\n",
       " (np.float64(0.04743298392137353), 'pub_rec_bankruptcies'),\n",
       " (np.float64(0.04821697059444902), 'loan_amnt'),\n",
       " (np.float64(0.050880274386953146), 'pub_rec'),\n",
       " (np.float64(0.05817427157514106), 'mths_since_last_record'),\n",
       " (np.float64(0.07171659645222105), 'inq_last_6mths'),\n",
       " (np.float64(0.09656039122666911), 'revol_util'),\n",
       " (np.float64(0.146038337294445), 'term'),\n",
       " (np.float64(0.16322083103277862), 'total_rec_late_fee'),\n",
       " (np.float64(0.19625344277278386), 'int_rate'),\n",
       " (np.float64(0.20539421535573557), 'collection_recovery_fee'),\n",
       " (np.float64(0.3402967326967604), 'recoveries')]"
      ]
     },
     "execution_count": 81,
     "metadata": {},
     "output_type": "execute_result"
    }
   ],
   "source": [
    "# Finding the correlation between loan_status and all variables\n",
    "arr = []\n",
    "for i in df.columns:\n",
    "    try:\n",
    "        arr.append((df[i].corr(defaulted), i))\n",
    "    except:\n",
    "        continue\n",
    "sorted(arr)"
   ]
  },
  {
   "cell_type": "markdown",
   "metadata": {},
   "source": [
    "We expect correlations to be small, because correlation assumes both variables are continuous and normal, but here one variable is binary.\n",
    "Ignoring the confounders and non-predictive variables such as total_pymnt and recoveries,  annual income is slightly negatively correlated, implying that higher income is associated with lesser delinquency.\n",
    "On the other hand, term is positively correlated, implying that borrowers who opt for longer terms are more likely to default.\n",
    "The utilization rate revol_util is also positively correlated, implying that those who use more credit, and thus are more dependent on it, are more likely to default."
   ]
  },
  {
   "cell_type": "code",
   "execution_count": 222,
   "metadata": {},
   "outputs": [],
   "source": [
    "def rankfreq(cname):\n",
    "    defaulters = df[df['loan_status'] == 'Charged Off']\n",
    "    fully_paid = df[df['loan_status'] == 'Fully Paid']\n",
    "    freq = defaulters[cname].value_counts()\n",
    "\n",
    "    defstate = freq.reset_index()\n",
    "    defstate.columns = [cname, 'frequency']\n",
    "    defstate['rank'] = defstate['frequency'].rank(method='first', ascending=False)\n",
    "\n",
    "    freq = fully_paid[cname].value_counts()\n",
    "\n",
    "    paidstate = freq.reset_index()\n",
    "    paidstate.columns = [cname, 'frequency']\n",
    "    paidstate['rank'] = paidstate['frequency'].rank(method='first', ascending=False)\n",
    "\n",
    "    return defstate.merge(paidstate, on=cname, how='outer', suffixes=('_def', '_paid')).sort_values('rank_def').head(10)"
   ]
  },
  {
   "cell_type": "code",
   "execution_count": 223,
   "metadata": {},
   "outputs": [
    {
     "data": {
      "text/html": [
       "<div>\n",
       "<style scoped>\n",
       "    .dataframe tbody tr th:only-of-type {\n",
       "        vertical-align: middle;\n",
       "    }\n",
       "\n",
       "    .dataframe tbody tr th {\n",
       "        vertical-align: top;\n",
       "    }\n",
       "\n",
       "    .dataframe thead th {\n",
       "        text-align: right;\n",
       "    }\n",
       "</style>\n",
       "<table border=\"1\" class=\"dataframe\">\n",
       "  <thead>\n",
       "    <tr style=\"text-align: right;\">\n",
       "      <th></th>\n",
       "      <th>addr_state</th>\n",
       "      <th>frequency_def</th>\n",
       "      <th>rank_def</th>\n",
       "      <th>frequency_paid</th>\n",
       "      <th>rank_paid</th>\n",
       "    </tr>\n",
       "  </thead>\n",
       "  <tbody>\n",
       "    <tr>\n",
       "      <th>4</th>\n",
       "      <td>CA</td>\n",
       "      <td>1125.0</td>\n",
       "      <td>1.0</td>\n",
       "      <td>5824</td>\n",
       "      <td>1.0</td>\n",
       "    </tr>\n",
       "    <tr>\n",
       "      <th>9</th>\n",
       "      <td>FL</td>\n",
       "      <td>504.0</td>\n",
       "      <td>2.0</td>\n",
       "      <td>2277</td>\n",
       "      <td>4.0</td>\n",
       "    </tr>\n",
       "    <tr>\n",
       "      <th>33</th>\n",
       "      <td>NY</td>\n",
       "      <td>495.0</td>\n",
       "      <td>3.0</td>\n",
       "      <td>3203</td>\n",
       "      <td>2.0</td>\n",
       "    </tr>\n",
       "    <tr>\n",
       "      <th>42</th>\n",
       "      <td>TX</td>\n",
       "      <td>316.0</td>\n",
       "      <td>4.0</td>\n",
       "      <td>2343</td>\n",
       "      <td>3.0</td>\n",
       "    </tr>\n",
       "    <tr>\n",
       "      <th>30</th>\n",
       "      <td>NJ</td>\n",
       "      <td>278.0</td>\n",
       "      <td>5.0</td>\n",
       "      <td>1512</td>\n",
       "      <td>5.0</td>\n",
       "    </tr>\n",
       "    <tr>\n",
       "      <th>10</th>\n",
       "      <td>GA</td>\n",
       "      <td>215.0</td>\n",
       "      <td>6.0</td>\n",
       "      <td>1144</td>\n",
       "      <td>9.0</td>\n",
       "    </tr>\n",
       "    <tr>\n",
       "      <th>14</th>\n",
       "      <td>IL</td>\n",
       "      <td>197.0</td>\n",
       "      <td>7.0</td>\n",
       "      <td>1281</td>\n",
       "      <td>7.0</td>\n",
       "    </tr>\n",
       "    <tr>\n",
       "      <th>37</th>\n",
       "      <td>PA</td>\n",
       "      <td>180.0</td>\n",
       "      <td>8.0</td>\n",
       "      <td>1288</td>\n",
       "      <td>6.0</td>\n",
       "    </tr>\n",
       "    <tr>\n",
       "      <th>44</th>\n",
       "      <td>VA</td>\n",
       "      <td>177.0</td>\n",
       "      <td>9.0</td>\n",
       "      <td>1192</td>\n",
       "      <td>8.0</td>\n",
       "    </tr>\n",
       "    <tr>\n",
       "      <th>20</th>\n",
       "      <td>MD</td>\n",
       "      <td>162.0</td>\n",
       "      <td>10.0</td>\n",
       "      <td>861</td>\n",
       "      <td>12.0</td>\n",
       "    </tr>\n",
       "  </tbody>\n",
       "</table>\n",
       "</div>"
      ],
      "text/plain": [
       "   addr_state  frequency_def  rank_def  frequency_paid  rank_paid\n",
       "4          CA         1125.0       1.0            5824        1.0\n",
       "9          FL          504.0       2.0            2277        4.0\n",
       "33         NY          495.0       3.0            3203        2.0\n",
       "42         TX          316.0       4.0            2343        3.0\n",
       "30         NJ          278.0       5.0            1512        5.0\n",
       "10         GA          215.0       6.0            1144        9.0\n",
       "14         IL          197.0       7.0            1281        7.0\n",
       "37         PA          180.0       8.0            1288        6.0\n",
       "44         VA          177.0       9.0            1192        8.0\n",
       "20         MD          162.0      10.0             861       12.0"
      ]
     },
     "execution_count": 223,
     "metadata": {},
     "output_type": "execute_result"
    }
   ],
   "source": [
    "rankfreq('addr_state')"
   ]
  },
  {
   "cell_type": "markdown",
   "metadata": {},
   "source": [
    "California is rank 1 among defaulters' state, but it's also the highest among the non-defaulters. This is probably because it has the highest population.\n",
    "The top 5 states are all in the top 10 most populated states in the US. No great delta between the two ranks, either.\n",
    "\n",
    "We could look at lower ranked states, but that has the problem of fewer sample size. We don't want to draw strong conclusions based on small sample size when it comes to states,\n",
    "since writing off entire states could lead to major loss of business.\n"
   ]
  },
  {
   "cell_type": "code",
   "execution_count": 224,
   "metadata": {},
   "outputs": [
    {
     "data": {
      "text/html": [
       "<div>\n",
       "<style scoped>\n",
       "    .dataframe tbody tr th:only-of-type {\n",
       "        vertical-align: middle;\n",
       "    }\n",
       "\n",
       "    .dataframe tbody tr th {\n",
       "        vertical-align: top;\n",
       "    }\n",
       "\n",
       "    .dataframe thead th {\n",
       "        text-align: right;\n",
       "    }\n",
       "</style>\n",
       "<table border=\"1\" class=\"dataframe\">\n",
       "  <thead>\n",
       "    <tr style=\"text-align: right;\">\n",
       "      <th></th>\n",
       "      <th>zip_code</th>\n",
       "      <th>frequency_def</th>\n",
       "      <th>rank_def</th>\n",
       "      <th>frequency_paid</th>\n",
       "      <th>rank_paid</th>\n",
       "    </tr>\n",
       "  </thead>\n",
       "  <tbody>\n",
       "    <tr>\n",
       "      <th>773</th>\n",
       "      <td>945xx</td>\n",
       "      <td>80.0</td>\n",
       "      <td>1.0</td>\n",
       "      <td>451.0</td>\n",
       "      <td>2.0</td>\n",
       "    </tr>\n",
       "    <tr>\n",
       "      <th>748</th>\n",
       "      <td>917xx</td>\n",
       "      <td>71.0</td>\n",
       "      <td>2.0</td>\n",
       "      <td>269.0</td>\n",
       "      <td>14.0</td>\n",
       "    </tr>\n",
       "    <tr>\n",
       "      <th>74</th>\n",
       "      <td>100xx</td>\n",
       "      <td>70.0</td>\n",
       "      <td>3.0</td>\n",
       "      <td>513.0</td>\n",
       "      <td>1.0</td>\n",
       "    </tr>\n",
       "    <tr>\n",
       "      <th>298</th>\n",
       "      <td>331xx</td>\n",
       "      <td>70.0</td>\n",
       "      <td>4.0</td>\n",
       "      <td>267.0</td>\n",
       "      <td>15.0</td>\n",
       "    </tr>\n",
       "    <tr>\n",
       "      <th>757</th>\n",
       "      <td>926xx</td>\n",
       "      <td>67.0</td>\n",
       "      <td>5.0</td>\n",
       "      <td>299.0</td>\n",
       "      <td>11.0</td>\n",
       "    </tr>\n",
       "    <tr>\n",
       "      <th>86</th>\n",
       "      <td>112xx</td>\n",
       "      <td>65.0</td>\n",
       "      <td>6.0</td>\n",
       "      <td>437.0</td>\n",
       "      <td>4.0</td>\n",
       "    </tr>\n",
       "    <tr>\n",
       "      <th>50</th>\n",
       "      <td>070xx</td>\n",
       "      <td>65.0</td>\n",
       "      <td>7.0</td>\n",
       "      <td>390.0</td>\n",
       "      <td>5.0</td>\n",
       "    </tr>\n",
       "    <tr>\n",
       "      <th>727</th>\n",
       "      <td>891xx</td>\n",
       "      <td>64.0</td>\n",
       "      <td>8.0</td>\n",
       "      <td>178.0</td>\n",
       "      <td>33.0</td>\n",
       "    </tr>\n",
       "    <tr>\n",
       "      <th>733</th>\n",
       "      <td>900xx</td>\n",
       "      <td>64.0</td>\n",
       "      <td>9.0</td>\n",
       "      <td>382.0</td>\n",
       "      <td>6.0</td>\n",
       "    </tr>\n",
       "    <tr>\n",
       "      <th>268</th>\n",
       "      <td>300xx</td>\n",
       "      <td>52.0</td>\n",
       "      <td>10.0</td>\n",
       "      <td>331.0</td>\n",
       "      <td>8.0</td>\n",
       "    </tr>\n",
       "  </tbody>\n",
       "</table>\n",
       "</div>"
      ],
      "text/plain": [
       "    zip_code  frequency_def  rank_def  frequency_paid  rank_paid\n",
       "773    945xx           80.0       1.0           451.0        2.0\n",
       "748    917xx           71.0       2.0           269.0       14.0\n",
       "74     100xx           70.0       3.0           513.0        1.0\n",
       "298    331xx           70.0       4.0           267.0       15.0\n",
       "757    926xx           67.0       5.0           299.0       11.0\n",
       "86     112xx           65.0       6.0           437.0        4.0\n",
       "50     070xx           65.0       7.0           390.0        5.0\n",
       "727    891xx           64.0       8.0           178.0       33.0\n",
       "733    900xx           64.0       9.0           382.0        6.0\n",
       "268    300xx           52.0      10.0           331.0        8.0"
      ]
     },
     "execution_count": 224,
     "metadata": {},
     "output_type": "execute_result"
    }
   ],
   "source": [
    "rankfreq('zip_code')"
   ]
  },
  {
   "cell_type": "markdown",
   "metadata": {},
   "source": [
    "Zipcodes has the same problem as states; the highest ranks would all bias toward those areas with greater population.\n",
    "But we can look at the delta between the two ranks.\n",
    "Zipcodes beginning with 917, 331, 926 and especially 891 contain a higher proportion of defaulters, compared to other zipcodes like 945 and 100.\n",
    "These zipcodes have a far greater frequency amongst deliquents, as shown by the difference in rank_def and rank_paid.\n",
    "\n",
    "We don't look at ranks below 10 for similar reasons as given for states."
   ]
  },
  {
   "cell_type": "code",
   "execution_count": 226,
   "metadata": {},
   "outputs": [
    {
     "data": {
      "text/html": [
       "<div>\n",
       "<style scoped>\n",
       "    .dataframe tbody tr th:only-of-type {\n",
       "        vertical-align: middle;\n",
       "    }\n",
       "\n",
       "    .dataframe tbody tr th {\n",
       "        vertical-align: top;\n",
       "    }\n",
       "\n",
       "    .dataframe thead th {\n",
       "        text-align: right;\n",
       "    }\n",
       "</style>\n",
       "<table border=\"1\" class=\"dataframe\">\n",
       "  <thead>\n",
       "    <tr style=\"text-align: right;\">\n",
       "      <th></th>\n",
       "      <th>count</th>\n",
       "      <th>mean</th>\n",
       "      <th>std</th>\n",
       "      <th>min</th>\n",
       "      <th>25%</th>\n",
       "      <th>50%</th>\n",
       "      <th>75%</th>\n",
       "      <th>max</th>\n",
       "    </tr>\n",
       "    <tr>\n",
       "      <th>loan_status</th>\n",
       "      <th></th>\n",
       "      <th></th>\n",
       "      <th></th>\n",
       "      <th></th>\n",
       "      <th></th>\n",
       "      <th></th>\n",
       "      <th></th>\n",
       "      <th></th>\n",
       "    </tr>\n",
       "  </thead>\n",
       "  <tbody>\n",
       "    <tr>\n",
       "      <th>Charged Off</th>\n",
       "      <td>5611.0</td>\n",
       "      <td>0.555721</td>\n",
       "      <td>0.279053</td>\n",
       "      <td>0.0</td>\n",
       "      <td>0.34400</td>\n",
       "      <td>0.5840</td>\n",
       "      <td>0.790</td>\n",
       "      <td>0.999</td>\n",
       "    </tr>\n",
       "    <tr>\n",
       "      <th>Current</th>\n",
       "      <td>1140.0</td>\n",
       "      <td>0.532045</td>\n",
       "      <td>0.268732</td>\n",
       "      <td>0.0</td>\n",
       "      <td>0.32575</td>\n",
       "      <td>0.5495</td>\n",
       "      <td>0.748</td>\n",
       "      <td>0.999</td>\n",
       "    </tr>\n",
       "    <tr>\n",
       "      <th>Fully Paid</th>\n",
       "      <td>32916.0</td>\n",
       "      <td>0.475318</td>\n",
       "      <td>0.282767</td>\n",
       "      <td>0.0</td>\n",
       "      <td>0.23900</td>\n",
       "      <td>0.4760</td>\n",
       "      <td>0.708</td>\n",
       "      <td>0.999</td>\n",
       "    </tr>\n",
       "  </tbody>\n",
       "</table>\n",
       "</div>"
      ],
      "text/plain": [
       "               count      mean       std  min      25%     50%    75%    max\n",
       "loan_status                                                                 \n",
       "Charged Off   5611.0  0.555721  0.279053  0.0  0.34400  0.5840  0.790  0.999\n",
       "Current       1140.0  0.532045  0.268732  0.0  0.32575  0.5495  0.748  0.999\n",
       "Fully Paid   32916.0  0.475318  0.282767  0.0  0.23900  0.4760  0.708  0.999"
      ]
     },
     "execution_count": 226,
     "metadata": {},
     "output_type": "execute_result"
    }
   ],
   "source": [
    "df.groupby('loan_status')['revol_util'].describe()"
   ]
  },
  {
   "cell_type": "code",
   "execution_count": 229,
   "metadata": {},
   "outputs": [
    {
     "data": {
      "text/html": [
       "<div>\n",
       "<style scoped>\n",
       "    .dataframe tbody tr th:only-of-type {\n",
       "        vertical-align: middle;\n",
       "    }\n",
       "\n",
       "    .dataframe tbody tr th {\n",
       "        vertical-align: top;\n",
       "    }\n",
       "\n",
       "    .dataframe thead th {\n",
       "        text-align: right;\n",
       "    }\n",
       "</style>\n",
       "<table border=\"1\" class=\"dataframe\">\n",
       "  <thead>\n",
       "    <tr style=\"text-align: right;\">\n",
       "      <th></th>\n",
       "      <th>count</th>\n",
       "      <th>mean</th>\n",
       "      <th>std</th>\n",
       "      <th>min</th>\n",
       "      <th>25%</th>\n",
       "      <th>50%</th>\n",
       "      <th>75%</th>\n",
       "      <th>max</th>\n",
       "    </tr>\n",
       "    <tr>\n",
       "      <th>loan_status</th>\n",
       "      <th></th>\n",
       "      <th></th>\n",
       "      <th></th>\n",
       "      <th></th>\n",
       "      <th></th>\n",
       "      <th></th>\n",
       "      <th></th>\n",
       "      <th></th>\n",
       "    </tr>\n",
       "  </thead>\n",
       "  <tbody>\n",
       "    <tr>\n",
       "      <th>Charged Off</th>\n",
       "      <td>5627.0</td>\n",
       "      <td>14.000624</td>\n",
       "      <td>6.585577</td>\n",
       "      <td>0.0</td>\n",
       "      <td>9.050</td>\n",
       "      <td>14.29</td>\n",
       "      <td>19.290</td>\n",
       "      <td>29.85</td>\n",
       "    </tr>\n",
       "    <tr>\n",
       "      <th>Current</th>\n",
       "      <td>1140.0</td>\n",
       "      <td>14.750009</td>\n",
       "      <td>6.710482</td>\n",
       "      <td>0.0</td>\n",
       "      <td>9.745</td>\n",
       "      <td>15.05</td>\n",
       "      <td>20.045</td>\n",
       "      <td>29.95</td>\n",
       "    </tr>\n",
       "    <tr>\n",
       "      <th>Fully Paid</th>\n",
       "      <td>32950.0</td>\n",
       "      <td>13.148421</td>\n",
       "      <td>6.680041</td>\n",
       "      <td>0.0</td>\n",
       "      <td>7.980</td>\n",
       "      <td>13.20</td>\n",
       "      <td>18.390</td>\n",
       "      <td>29.99</td>\n",
       "    </tr>\n",
       "  </tbody>\n",
       "</table>\n",
       "</div>"
      ],
      "text/plain": [
       "               count       mean       std  min    25%    50%     75%    max\n",
       "loan_status                                                                \n",
       "Charged Off   5627.0  14.000624  6.585577  0.0  9.050  14.29  19.290  29.85\n",
       "Current       1140.0  14.750009  6.710482  0.0  9.745  15.05  20.045  29.95\n",
       "Fully Paid   32950.0  13.148421  6.680041  0.0  7.980  13.20  18.390  29.99"
      ]
     },
     "execution_count": 229,
     "metadata": {},
     "output_type": "execute_result"
    }
   ],
   "source": [
    "df.groupby('loan_status')['dti'].describe()"
   ]
  },
  {
   "cell_type": "code",
   "execution_count": 230,
   "metadata": {},
   "outputs": [
    {
     "data": {
      "text/html": [
       "<div>\n",
       "<style scoped>\n",
       "    .dataframe tbody tr th:only-of-type {\n",
       "        vertical-align: middle;\n",
       "    }\n",
       "\n",
       "    .dataframe tbody tr th {\n",
       "        vertical-align: top;\n",
       "    }\n",
       "\n",
       "    .dataframe thead th {\n",
       "        text-align: right;\n",
       "    }\n",
       "</style>\n",
       "<table border=\"1\" class=\"dataframe\">\n",
       "  <thead>\n",
       "    <tr style=\"text-align: right;\">\n",
       "      <th></th>\n",
       "      <th>count</th>\n",
       "      <th>mean</th>\n",
       "      <th>std</th>\n",
       "      <th>min</th>\n",
       "      <th>25%</th>\n",
       "      <th>50%</th>\n",
       "      <th>75%</th>\n",
       "      <th>max</th>\n",
       "    </tr>\n",
       "    <tr>\n",
       "      <th>loan_status</th>\n",
       "      <th></th>\n",
       "      <th></th>\n",
       "      <th></th>\n",
       "      <th></th>\n",
       "      <th></th>\n",
       "      <th></th>\n",
       "      <th></th>\n",
       "      <th></th>\n",
       "    </tr>\n",
       "  </thead>\n",
       "  <tbody>\n",
       "    <tr>\n",
       "      <th>Charged Off</th>\n",
       "      <td>5627.0</td>\n",
       "      <td>62427.298034</td>\n",
       "      <td>47776.014188</td>\n",
       "      <td>4080.0</td>\n",
       "      <td>37000.00</td>\n",
       "      <td>53000.0</td>\n",
       "      <td>75000.0</td>\n",
       "      <td>1250000.0</td>\n",
       "    </tr>\n",
       "    <tr>\n",
       "      <th>Current</th>\n",
       "      <td>1140.0</td>\n",
       "      <td>75430.665105</td>\n",
       "      <td>46775.431597</td>\n",
       "      <td>9960.0</td>\n",
       "      <td>47475.00</td>\n",
       "      <td>65000.0</td>\n",
       "      <td>90000.0</td>\n",
       "      <td>650000.0</td>\n",
       "    </tr>\n",
       "    <tr>\n",
       "      <th>Fully Paid</th>\n",
       "      <td>32950.0</td>\n",
       "      <td>69862.503328</td>\n",
       "      <td>66562.246521</td>\n",
       "      <td>4000.0</td>\n",
       "      <td>41132.75</td>\n",
       "      <td>60000.0</td>\n",
       "      <td>84000.0</td>\n",
       "      <td>6000000.0</td>\n",
       "    </tr>\n",
       "  </tbody>\n",
       "</table>\n",
       "</div>"
      ],
      "text/plain": [
       "               count          mean           std     min       25%      50%  \\\n",
       "loan_status                                                                   \n",
       "Charged Off   5627.0  62427.298034  47776.014188  4080.0  37000.00  53000.0   \n",
       "Current       1140.0  75430.665105  46775.431597  9960.0  47475.00  65000.0   \n",
       "Fully Paid   32950.0  69862.503328  66562.246521  4000.0  41132.75  60000.0   \n",
       "\n",
       "                 75%        max  \n",
       "loan_status                      \n",
       "Charged Off  75000.0  1250000.0  \n",
       "Current      90000.0   650000.0  \n",
       "Fully Paid   84000.0  6000000.0  "
      ]
     },
     "execution_count": 230,
     "metadata": {},
     "output_type": "execute_result"
    }
   ],
   "source": [
    "df.groupby('loan_status')['annual_inc'].describe()"
   ]
  },
  {
   "cell_type": "code",
   "execution_count": 260,
   "metadata": {},
   "outputs": [
    {
     "data": {
      "text/html": [
       "<div>\n",
       "<style scoped>\n",
       "    .dataframe tbody tr th:only-of-type {\n",
       "        vertical-align: middle;\n",
       "    }\n",
       "\n",
       "    .dataframe tbody tr th {\n",
       "        vertical-align: top;\n",
       "    }\n",
       "\n",
       "    .dataframe thead th {\n",
       "        text-align: right;\n",
       "    }\n",
       "</style>\n",
       "<table border=\"1\" class=\"dataframe\">\n",
       "  <thead>\n",
       "    <tr style=\"text-align: right;\">\n",
       "      <th></th>\n",
       "      <th>count</th>\n",
       "      <th>mean</th>\n",
       "      <th>std</th>\n",
       "      <th>min</th>\n",
       "      <th>25%</th>\n",
       "      <th>50%</th>\n",
       "      <th>75%</th>\n",
       "      <th>max</th>\n",
       "    </tr>\n",
       "    <tr>\n",
       "      <th>loan_status</th>\n",
       "      <th></th>\n",
       "      <th></th>\n",
       "      <th></th>\n",
       "      <th></th>\n",
       "      <th></th>\n",
       "      <th></th>\n",
       "      <th></th>\n",
       "      <th></th>\n",
       "    </tr>\n",
       "  </thead>\n",
       "  <tbody>\n",
       "    <tr>\n",
       "      <th>Charged Off</th>\n",
       "      <td>5627.0</td>\n",
       "      <td>21.427581</td>\n",
       "      <td>11.447427</td>\n",
       "      <td>2.0</td>\n",
       "      <td>13.0</td>\n",
       "      <td>20.0</td>\n",
       "      <td>28.0</td>\n",
       "      <td>74.0</td>\n",
       "    </tr>\n",
       "    <tr>\n",
       "      <th>Current</th>\n",
       "      <td>1140.0</td>\n",
       "      <td>23.313158</td>\n",
       "      <td>10.483115</td>\n",
       "      <td>3.0</td>\n",
       "      <td>16.0</td>\n",
       "      <td>22.0</td>\n",
       "      <td>30.0</td>\n",
       "      <td>63.0</td>\n",
       "    </tr>\n",
       "    <tr>\n",
       "      <th>Fully Paid</th>\n",
       "      <td>32950.0</td>\n",
       "      <td>22.159393</td>\n",
       "      <td>11.418927</td>\n",
       "      <td>2.0</td>\n",
       "      <td>14.0</td>\n",
       "      <td>20.0</td>\n",
       "      <td>29.0</td>\n",
       "      <td>90.0</td>\n",
       "    </tr>\n",
       "  </tbody>\n",
       "</table>\n",
       "</div>"
      ],
      "text/plain": [
       "               count       mean        std  min   25%   50%   75%   max\n",
       "loan_status                                                            \n",
       "Charged Off   5627.0  21.427581  11.447427  2.0  13.0  20.0  28.0  74.0\n",
       "Current       1140.0  23.313158  10.483115  3.0  16.0  22.0  30.0  63.0\n",
       "Fully Paid   32950.0  22.159393  11.418927  2.0  14.0  20.0  29.0  90.0"
      ]
     },
     "execution_count": 260,
     "metadata": {},
     "output_type": "execute_result"
    }
   ],
   "source": [
    "df.groupby('loan_status')['total_acc'].describe()"
   ]
  },
  {
   "cell_type": "code",
   "execution_count": 279,
   "metadata": {},
   "outputs": [
    {
     "data": {
      "image/png": "[encoded data removed]",
      "text/plain": [
       "<Figure size 720x720 with 1 Axes>"
      ]
     },
     "metadata": {
      "needs_background": "light"
     },
     "output_type": "display_data"
    }
   ],
   "source": [
    "def boxplt(cname, ylabel, log=False):\n",
    "    defaulters = df[df['loan_status'] == 'Charged Off']\n",
    "    fully_paid = df[df['loan_status'] == 'Fully Paid']\n",
    "    current = df[df['loan_status'] == 'Current']\n",
    "    data = [defaulters[defaulters[cname].notna()][cname], current[current[cname].notna()][cname], fully_paid[fully_paid[cname].notna()][cname]]\n",
    "    plt.figure(figsize=(10, 10))\n",
    "    plt.boxplot(data, tick_labels=['Charged Off', 'Current', 'Fully Paid'])\n",
    "    plt.title(ylabel + ' Segmented by Loan Status')\n",
    "    plt.xlabel('Loan Status')\n",
    "    plt.ylabel(ylabel)\n",
    "    if log:\n",
    "        plt.yscale('log')\n",
    "    plt.show()\n",
    "\n",
    "boxplt('revol_util', 'Revolving Line Utilization Rate')"
   ]
  },
  {
   "cell_type": "markdown",
   "metadata": {},
   "source": [
    "There doesn't seem to be a lot of difference between the annual incomes of people who paid off their loans and those who defaulted. Both cohorts have similar levels of low income. The median is slightly higher for the fully paid cohort, but not enought to be significant. Both have similar first and third quartiles. There's a lot more diversity in the range of incomes among both groups. In contrast, the group paying off open loans on time has a smaller range of incomes. The 'Fully Paid' group has, at the higher end, far greater income than the other two groups, which is as expected. High-income people would be most capable of paying off loans.\n",
    "\n",
    "The DTI boxplot segmented by Loan Status is similar. The quartiles for defaulters is higher than for \"Fully Paid\", but lower than \"Current\". It's hard to draw a strong conclusion from this.\n",
    "\n",
    "Employee Length, Months Since Last Default, and Total Number of Credit Lines have similarly weak evidence.\n",
    "\n",
    "The Revolving Line Utilization Rate (RLUR) is significantly higher for deliquient borrowers than for other groups. While the minima and maxima are similar for all groups, all three quartiles are higher for deliquients compared to the other two groups.\n"
   ]
  },
  {
   "cell_type": "code",
   "execution_count": 35,
   "metadata": {},
   "outputs": [],
   "source": [
    "# Creating new metrics: the month and quarter of issue date\n",
    "\n",
    "df['issue_month'] = df['issue_d'].dt.month\n",
    "df['issue_quarter'] = df['issue_d'].dt.quarter"
   ]
  },
  {
   "cell_type": "code",
   "execution_count": 38,
   "metadata": {},
   "outputs": [
    {
     "data": {
      "text/plain": [
       "issue_month\n",
       "5     0.155385\n",
       "12    0.152944\n",
       "9     0.149945\n",
       "10    0.147433\n",
       "6     0.147301\n",
       "11    0.143509\n",
       "7     0.137802\n",
       "1     0.134931\n",
       "8     0.133030\n",
       "4     0.130558\n",
       "3     0.128900\n",
       "2     0.122986\n",
       "Name: proportion, dtype: float64"
      ]
     },
     "execution_count": 38,
     "metadata": {},
     "output_type": "execute_result"
    }
   ],
   "source": [
    "# Delinquency by issue month\n",
    "df.groupby('issue_month')['loan_status'].value_counts(normalize=True, dropna=True).xs('Charged Off', level=1).sort_values(ascending=False)\n"
   ]
  },
  {
   "cell_type": "code",
   "execution_count": 39,
   "metadata": {},
   "outputs": [
    {
     "data": {
      "text/plain": [
       "issue_month\n",
       "2     0.877014\n",
       "3     0.870728\n",
       "4     0.868384\n",
       "1     0.865069\n",
       "8     0.830017\n",
       "7     0.826237\n",
       "6     0.822507\n",
       "5     0.817939\n",
       "11    0.817855\n",
       "9     0.808936\n",
       "10    0.808592\n",
       "12    0.797880\n",
       "Name: proportion, dtype: float64"
      ]
     },
     "execution_count": 39,
     "metadata": {},
     "output_type": "execute_result"
    }
   ],
   "source": [
    "# Fully Paid by issue month\n",
    "\n",
    "df.groupby('issue_month')['loan_status'].value_counts(normalize=True, dropna=True).xs('Fully Paid', level=1).sort_values(ascending=False)"
   ]
  },
  {
   "cell_type": "markdown",
   "metadata": {},
   "source": [
    "The rates of both 'Charged Off' and 'Fully Paid' grouped by month of loan issue seem to be fairly similar.\n",
    "Not a lot of variation between the rates of default among bad loans. Only around 3%.\n",
    "Interestingly, February had both the highest rate of fully paid loans, as well as lowest rate of defaulted loans.\n",
    "December was opposite: highest rate of default loans, lowest rate of fully paid loans.\n",
    "The lack of variation in the data means this might be a co-incidence.\n",
    "We can look at the purpose of the loans to see if the type of loans opened in these months are different."
   ]
  },
  {
   "cell_type": "code",
   "execution_count": 45,
   "metadata": {},
   "outputs": [
    {
     "data": {
      "text/plain": [
       "purpose\n",
       "debt_consolidation    0.489822\n",
       "credit_card           0.134012\n",
       "other                 0.094996\n",
       "small_business        0.055980\n",
       "home_improvement      0.054283\n",
       "major_purchase        0.050891\n",
       "car                   0.044953\n",
       "wedding               0.022477\n",
       "medical               0.014419\n",
       "educational           0.013147\n",
       "house                 0.009754\n",
       "moving                0.007634\n",
       "vacation              0.006785\n",
       "renewable_energy      0.000848\n",
       "Name: proportion, dtype: float64"
      ]
     },
     "execution_count": 45,
     "metadata": {},
     "output_type": "execute_result"
    }
   ],
   "source": [
    "# Purpose of loans issued in February\n",
    "df.groupby('issue_month')['purpose'].value_counts(normalize=True, dropna=True).xs(2, level=0).sort_values(ascending=False)"
   ]
  },
  {
   "cell_type": "code",
   "execution_count": 46,
   "metadata": {},
   "outputs": [
    {
     "data": {
      "text/plain": [
       "purpose\n",
       "debt_consolidation    0.492669\n",
       "credit_card           0.183848\n",
       "other                 0.088653\n",
       "home_improvement      0.057749\n",
       "small_business        0.043312\n",
       "major_purchase        0.038123\n",
       "car                   0.027972\n",
       "wedding               0.017595\n",
       "medical               0.014663\n",
       "moving                0.010828\n",
       "vacation              0.009249\n",
       "house                 0.008572\n",
       "educational           0.005188\n",
       "renewable_energy      0.001579\n",
       "Name: proportion, dtype: float64"
      ]
     },
     "execution_count": 46,
     "metadata": {},
     "output_type": "execute_result"
    }
   ],
   "source": [
    "# Purpose of loans taken issued in December\n",
    "df.groupby('issue_month')['purpose'].value_counts(normalize=True, dropna=True).xs(12, level=0).sort_values(ascending=False)"
   ]
  },
  {
   "cell_type": "markdown",
   "metadata": {},
   "source": [
    "In both Feb and Dec, nearly half the loans were taken for consolidating debt. The other purposes are similarly ordered.\n",
    "So the initial result may have been a co-incidence. We'd have to talk to the lender to see if they have further insight here."
   ]
  },
  {
   "cell_type": "code",
   "execution_count": 51,
   "metadata": {},
   "outputs": [
    {
     "data": {
      "text/plain": [
       "issue_quarter  loan_status\n",
       "1              Fully Paid     0.870911\n",
       "               Charged Off    0.128954\n",
       "               Current        0.000135\n",
       "2              Fully Paid     0.835272\n",
       "               Charged Off    0.144754\n",
       "               Current        0.019974\n",
       "3              Fully Paid     0.821556\n",
       "               Charged Off    0.140387\n",
       "               Current        0.038057\n",
       "4              Fully Paid     0.807883\n",
       "               Charged Off    0.148077\n",
       "               Current        0.044040\n",
       "Name: proportion, dtype: float64"
      ]
     },
     "execution_count": 51,
     "metadata": {},
     "output_type": "execute_result"
    }
   ],
   "source": [
    "df.groupby('issue_quarter')['loan_status'].value_counts(normalize=True, dropna=True)"
   ]
  },
  {
   "cell_type": "code",
   "execution_count": 52,
   "metadata": {},
   "outputs": [
    {
     "data": {
      "text/plain": [
       "issue_quarter  purpose           \n",
       "1              debt_consolidation    0.473415\n",
       "               credit_card           0.132454\n",
       "               other                 0.095168\n",
       "               home_improvement      0.061920\n",
       "               major_purchase        0.055593\n",
       "               small_business        0.054381\n",
       "               car                   0.045901\n",
       "               wedding               0.024633\n",
       "               medical               0.016422\n",
       "               house                 0.011038\n",
       "               educational           0.010230\n",
       "               moving                0.009692\n",
       "               vacation              0.007538\n",
       "               renewable_energy      0.001615\n",
       "2              debt_consolidation    0.434592\n",
       "               credit_card           0.113477\n",
       "               other                 0.112709\n",
       "               home_improvement      0.094491\n",
       "               major_purchase        0.066506\n",
       "               car                   0.045435\n",
       "               small_business        0.040606\n",
       "               wedding               0.024473\n",
       "               medical               0.019205\n",
       "               moving                0.015145\n",
       "               vacation              0.011523\n",
       "               educational           0.009877\n",
       "               house                 0.008889\n",
       "               renewable_energy      0.003073\n",
       "3              debt_consolidation    0.468709\n",
       "               credit_card           0.114828\n",
       "               other                 0.101861\n",
       "               home_improvement      0.079402\n",
       "               major_purchase        0.058354\n",
       "               small_business        0.043131\n",
       "               car                   0.038527\n",
       "               wedding               0.026969\n",
       "               moving                0.021049\n",
       "               medical               0.017290\n",
       "               vacation              0.010055\n",
       "               house                 0.009021\n",
       "               educational           0.008081\n",
       "               renewable_energy      0.002725\n",
       "4              debt_consolidation    0.492740\n",
       "               credit_card           0.150790\n",
       "               other                 0.093745\n",
       "               home_improvement      0.064624\n",
       "               small_business        0.047471\n",
       "               major_purchase        0.043641\n",
       "               car                   0.030637\n",
       "               wedding               0.020265\n",
       "               medical               0.016914\n",
       "               moving                0.011888\n",
       "               house                 0.009734\n",
       "               vacation              0.009015\n",
       "               educational           0.005824\n",
       "               renewable_energy      0.002713\n",
       "Name: proportion, dtype: float64"
      ]
     },
     "execution_count": 52,
     "metadata": {},
     "output_type": "execute_result"
    }
   ],
   "source": [
    "df.groupby('issue_quarter')['purpose'].value_counts(normalize=True, dropna=True)"
   ]
  },
  {
   "cell_type": "markdown",
   "metadata": {},
   "source": [
    "When grouping by quarter, there isn't a lot of variation in the data, thought the first quarter has the fewest delinquent loans, which reinforces what we saw for February.\n",
    "When looking at purposes, we see debt_consolidation again at the top, and others follow the same relative order.\n",
    "All in all, not very enlightening."
   ]
  },
  {
   "cell_type": "code",
   "execution_count": 263,
   "metadata": {},
   "outputs": [],
   "source": [
    "df['desclen'] = df['desc'].str.replace(' ','').str.len().fillna(0)"
   ]
  },
  {
   "cell_type": "code",
   "execution_count": 267,
   "metadata": {},
   "outputs": [
    {
     "data": {
      "text/html": [
       "<div>\n",
       "<style scoped>\n",
       "    .dataframe tbody tr th:only-of-type {\n",
       "        vertical-align: middle;\n",
       "    }\n",
       "\n",
       "    .dataframe tbody tr th {\n",
       "        vertical-align: top;\n",
       "    }\n",
       "\n",
       "    .dataframe thead th {\n",
       "        text-align: right;\n",
       "    }\n",
       "</style>\n",
       "<table border=\"1\" class=\"dataframe\">\n",
       "  <thead>\n",
       "    <tr style=\"text-align: right;\">\n",
       "      <th></th>\n",
       "      <th>count</th>\n",
       "      <th>mean</th>\n",
       "      <th>std</th>\n",
       "      <th>min</th>\n",
       "      <th>25%</th>\n",
       "      <th>50%</th>\n",
       "      <th>75%</th>\n",
       "      <th>max</th>\n",
       "    </tr>\n",
       "    <tr>\n",
       "      <th>loan_status</th>\n",
       "      <th></th>\n",
       "      <th></th>\n",
       "      <th></th>\n",
       "      <th></th>\n",
       "      <th></th>\n",
       "      <th></th>\n",
       "      <th></th>\n",
       "      <th></th>\n",
       "    </tr>\n",
       "  </thead>\n",
       "  <tbody>\n",
       "    <tr>\n",
       "      <th>Charged Off</th>\n",
       "      <td>5627.0</td>\n",
       "      <td>156.347965</td>\n",
       "      <td>252.356000</td>\n",
       "      <td>0.0</td>\n",
       "      <td>0.0</td>\n",
       "      <td>71.0</td>\n",
       "      <td>203.5</td>\n",
       "      <td>2977.0</td>\n",
       "    </tr>\n",
       "    <tr>\n",
       "      <th>Current</th>\n",
       "      <td>1140.0</td>\n",
       "      <td>114.933333</td>\n",
       "      <td>182.922104</td>\n",
       "      <td>0.0</td>\n",
       "      <td>0.0</td>\n",
       "      <td>49.0</td>\n",
       "      <td>163.0</td>\n",
       "      <td>2046.0</td>\n",
       "    </tr>\n",
       "    <tr>\n",
       "      <th>Fully Paid</th>\n",
       "      <td>32950.0</td>\n",
       "      <td>166.450440</td>\n",
       "      <td>254.505761</td>\n",
       "      <td>0.0</td>\n",
       "      <td>0.0</td>\n",
       "      <td>76.0</td>\n",
       "      <td>226.0</td>\n",
       "      <td>3304.0</td>\n",
       "    </tr>\n",
       "  </tbody>\n",
       "</table>\n",
       "</div>"
      ],
      "text/plain": [
       "               count        mean         std  min  25%   50%    75%     max\n",
       "loan_status                                                                \n",
       "Charged Off   5627.0  156.347965  252.356000  0.0  0.0  71.0  203.5  2977.0\n",
       "Current       1140.0  114.933333  182.922104  0.0  0.0  49.0  163.0  2046.0\n",
       "Fully Paid   32950.0  166.450440  254.505761  0.0  0.0  76.0  226.0  3304.0"
      ]
     },
     "execution_count": 267,
     "metadata": {},
     "output_type": "execute_result"
    }
   ],
   "source": [
    "df.groupby('loan_status')['desclen'].describe()"
   ]
  },
  {
   "cell_type": "code",
   "execution_count": 269,
   "metadata": {},
   "outputs": [
    {
     "data": {
      "image/png": "[encoded data removed]",
      "text/plain": [
       "<Figure size 720x720 with 1 Axes>"
      ]
     },
     "metadata": {
      "needs_background": "light"
     },
     "output_type": "display_data"
    }
   ],
   "source": [
    "boxplt('desclen', \"Description Length\", True)"
   ]
  },
  {
   "cell_type": "code",
   "execution_count": 270,
   "metadata": {},
   "outputs": [
    {
     "data": {
      "text/plain": [
       "np.float64(-0.011569107610235408)"
      ]
     },
     "execution_count": 270,
     "metadata": {},
     "output_type": "execute_result"
    }
   ],
   "source": [
    "df['desclen'].corr(defaulted)"
   ]
  },
  {
   "cell_type": "markdown",
   "metadata": {},
   "source": [
    "While Fully Paid has a higher median than Charged Off, Current cohort's median is lower still.\n",
    "The extremely neutral correlation coefficient leads me to think that there is no strong relationship between description length and loan status."
   ]
  },
  {
   "cell_type": "code",
   "execution_count": 272,
   "metadata": {},
   "outputs": [],
   "source": [
    "df['loan_inc_ratio'] = df['loan_amnt']/df['annual_inc']"
   ]
  },
  {
   "cell_type": "code",
   "execution_count": 273,
   "metadata": {},
   "outputs": [
    {
     "data": {
      "text/plain": [
       "np.float64(0.10773231770193649)"
      ]
     },
     "execution_count": 273,
     "metadata": {},
     "output_type": "execute_result"
    }
   ],
   "source": [
    "df['loan_inc_ratio'].corr(defaulted)"
   ]
  },
  {
   "cell_type": "markdown",
   "metadata": {},
   "source": [
    "We look at the ratio of loan amount and annual income. If the loan amount is lesser than annual income, we expect the borrower to pay if off easily.\n",
    "The correlation is higher than that of revol_util."
   ]
  },
  {
   "cell_type": "code",
   "execution_count": 274,
   "metadata": {},
   "outputs": [
    {
     "data": {
      "text/html": [
       "<div>\n",
       "<style scoped>\n",
       "    .dataframe tbody tr th:only-of-type {\n",
       "        vertical-align: middle;\n",
       "    }\n",
       "\n",
       "    .dataframe tbody tr th {\n",
       "        vertical-align: top;\n",
       "    }\n",
       "\n",
       "    .dataframe thead th {\n",
       "        text-align: right;\n",
       "    }\n",
       "</style>\n",
       "<table border=\"1\" class=\"dataframe\">\n",
       "  <thead>\n",
       "    <tr style=\"text-align: right;\">\n",
       "      <th></th>\n",
       "      <th>count</th>\n",
       "      <th>mean</th>\n",
       "      <th>std</th>\n",
       "      <th>min</th>\n",
       "      <th>25%</th>\n",
       "      <th>50%</th>\n",
       "      <th>75%</th>\n",
       "      <th>max</th>\n",
       "    </tr>\n",
       "    <tr>\n",
       "      <th>loan_status</th>\n",
       "      <th></th>\n",
       "      <th></th>\n",
       "      <th></th>\n",
       "      <th></th>\n",
       "      <th></th>\n",
       "      <th></th>\n",
       "      <th></th>\n",
       "      <th></th>\n",
       "    </tr>\n",
       "  </thead>\n",
       "  <tbody>\n",
       "    <tr>\n",
       "      <th>Charged Off</th>\n",
       "      <td>5627.0</td>\n",
       "      <td>0.218771</td>\n",
       "      <td>0.130062</td>\n",
       "      <td>0.005208</td>\n",
       "      <td>0.114976</td>\n",
       "      <td>0.198778</td>\n",
       "      <td>0.300000</td>\n",
       "      <td>0.819672</td>\n",
       "    </tr>\n",
       "    <tr>\n",
       "      <th>Current</th>\n",
       "      <td>1140.0</td>\n",
       "      <td>0.258311</td>\n",
       "      <td>0.131496</td>\n",
       "      <td>0.011905</td>\n",
       "      <td>0.158860</td>\n",
       "      <td>0.242218</td>\n",
       "      <td>0.343205</td>\n",
       "      <td>0.781250</td>\n",
       "    </tr>\n",
       "    <tr>\n",
       "      <th>Fully Paid</th>\n",
       "      <td>32950.0</td>\n",
       "      <td>0.180209</td>\n",
       "      <td>0.111551</td>\n",
       "      <td>0.000789</td>\n",
       "      <td>0.095588</td>\n",
       "      <td>0.157976</td>\n",
       "      <td>0.242380</td>\n",
       "      <td>0.830000</td>\n",
       "    </tr>\n",
       "  </tbody>\n",
       "</table>\n",
       "</div>"
      ],
      "text/plain": [
       "               count      mean       std       min       25%       50%  \\\n",
       "loan_status                                                              \n",
       "Charged Off   5627.0  0.218771  0.130062  0.005208  0.114976  0.198778   \n",
       "Current       1140.0  0.258311  0.131496  0.011905  0.158860  0.242218   \n",
       "Fully Paid   32950.0  0.180209  0.111551  0.000789  0.095588  0.157976   \n",
       "\n",
       "                  75%       max  \n",
       "loan_status                      \n",
       "Charged Off  0.300000  0.819672  \n",
       "Current      0.343205  0.781250  \n",
       "Fully Paid   0.242380  0.830000  "
      ]
     },
     "execution_count": 274,
     "metadata": {},
     "output_type": "execute_result"
    }
   ],
   "source": [
    "df.groupby('loan_status')['loan_inc_ratio'].describe()"
   ]
  },
  {
   "cell_type": "code",
   "execution_count": 116,
   "metadata": {},
   "outputs": [
    {
     "data": {
      "image/png": "[encoded data removed]",
      "text/plain": [
       "<Figure size 720x720 with 1 Axes>"
      ]
     },
     "metadata": {
      "needs_background": "light"
     },
     "output_type": "display_data"
    }
   ],
   "source": [
    "boxplt('loan_inc_ratio', 'Loan-Income Ratio')"
   ]
  },
  {
   "cell_type": "markdown",
   "metadata": {},
   "source": [
    "The Fully Paid cohort has a lower median loan-income ratio than the Charged Off cohort. Even the third quartile is lower."
   ]
  },
  {
   "cell_type": "markdown",
   "metadata": {},
   "source": [
    "Next, we'll look at how long borrowers had credit when they applied for their loan."
   ]
  },
  {
   "cell_type": "code",
   "execution_count": 344,
   "metadata": {},
   "outputs": [],
   "source": [
    "df['credit_delta'] = df['issue_d']-df['earliest_cr_line']\n",
    "df['credit_delta'] = df['credit_delta'].dt.days"
   ]
  },
  {
   "cell_type": "code",
   "execution_count": 352,
   "metadata": {},
   "outputs": [
    {
     "data": {
      "text/html": [
       "<div>\n",
       "<style scoped>\n",
       "    .dataframe tbody tr th:only-of-type {\n",
       "        vertical-align: middle;\n",
       "    }\n",
       "\n",
       "    .dataframe tbody tr th {\n",
       "        vertical-align: top;\n",
       "    }\n",
       "\n",
       "    .dataframe thead th {\n",
       "        text-align: right;\n",
       "    }\n",
       "</style>\n",
       "<table border=\"1\" class=\"dataframe\">\n",
       "  <thead>\n",
       "    <tr style=\"text-align: right;\">\n",
       "      <th></th>\n",
       "      <th>count</th>\n",
       "      <th>mean</th>\n",
       "      <th>std</th>\n",
       "      <th>min</th>\n",
       "      <th>25%</th>\n",
       "      <th>50%</th>\n",
       "      <th>75%</th>\n",
       "      <th>max</th>\n",
       "    </tr>\n",
       "    <tr>\n",
       "      <th>loan_status</th>\n",
       "      <th></th>\n",
       "      <th></th>\n",
       "      <th></th>\n",
       "      <th></th>\n",
       "      <th></th>\n",
       "      <th></th>\n",
       "      <th></th>\n",
       "      <th></th>\n",
       "    </tr>\n",
       "  </thead>\n",
       "  <tbody>\n",
       "    <tr>\n",
       "      <th>Charged Off</th>\n",
       "      <td>5627.0</td>\n",
       "      <td>4916.981695</td>\n",
       "      <td>2468.527485</td>\n",
       "      <td>1095.0</td>\n",
       "      <td>3287.0</td>\n",
       "      <td>4475.0</td>\n",
       "      <td>6058.0</td>\n",
       "      <td>17897.0</td>\n",
       "    </tr>\n",
       "    <tr>\n",
       "      <th>Current</th>\n",
       "      <td>1140.0</td>\n",
       "      <td>5886.366667</td>\n",
       "      <td>2574.387994</td>\n",
       "      <td>1125.0</td>\n",
       "      <td>4140.0</td>\n",
       "      <td>5493.0</td>\n",
       "      <td>7213.0</td>\n",
       "      <td>17227.0</td>\n",
       "    </tr>\n",
       "    <tr>\n",
       "      <th>Fully Paid</th>\n",
       "      <td>32950.0</td>\n",
       "      <td>5028.194780</td>\n",
       "      <td>2499.212149</td>\n",
       "      <td>1095.0</td>\n",
       "      <td>3318.0</td>\n",
       "      <td>4567.0</td>\n",
       "      <td>6210.0</td>\n",
       "      <td>23892.0</td>\n",
       "    </tr>\n",
       "  </tbody>\n",
       "</table>\n",
       "</div>"
      ],
      "text/plain": [
       "               count         mean          std     min     25%     50%  \\\n",
       "loan_status                                                              \n",
       "Charged Off   5627.0  4916.981695  2468.527485  1095.0  3287.0  4475.0   \n",
       "Current       1140.0  5886.366667  2574.387994  1125.0  4140.0  5493.0   \n",
       "Fully Paid   32950.0  5028.194780  2499.212149  1095.0  3318.0  4567.0   \n",
       "\n",
       "                75%      max  \n",
       "loan_status                   \n",
       "Charged Off  6058.0  17897.0  \n",
       "Current      7213.0  17227.0  \n",
       "Fully Paid   6210.0  23892.0  "
      ]
     },
     "execution_count": 352,
     "metadata": {},
     "output_type": "execute_result"
    }
   ],
   "source": [
    "df.groupby('loan_status')['credit_delta'].describe()"
   ]
  },
  {
   "cell_type": "code",
   "execution_count": 349,
   "metadata": {},
   "outputs": [
    {
     "data": {
      "image/png": "[encoded data removed]",
      "text/plain": [
       "<Figure size 720x720 with 1 Axes>"
      ]
     },
     "metadata": {
      "needs_background": "light"
     },
     "output_type": "display_data"
    }
   ],
   "source": [
    "boxplt('credit_delta', 'Credit Delta')"
   ]
  },
  {
   "cell_type": "markdown",
   "metadata": {},
   "source": [
    "The spread for all three cohorts are similar. While the median for Fully Paid is slightly higher than Charged Off, and Fully Paid has many of the highest values, because the figures overlap so much, we can't draw a firm conclusion here."
   ]
  },
  {
   "cell_type": "code",
   "execution_count": 364,
   "metadata": {},
   "outputs": [],
   "source": [
    "df['install_inc_ratio'] = df['installment']/(df['annual_inc']/12)"
   ]
  },
  {
   "cell_type": "code",
   "execution_count": 365,
   "metadata": {},
   "outputs": [
    {
     "data": {
      "text/html": [
       "<div>\n",
       "<style scoped>\n",
       "    .dataframe tbody tr th:only-of-type {\n",
       "        vertical-align: middle;\n",
       "    }\n",
       "\n",
       "    .dataframe tbody tr th {\n",
       "        vertical-align: top;\n",
       "    }\n",
       "\n",
       "    .dataframe thead th {\n",
       "        text-align: right;\n",
       "    }\n",
       "</style>\n",
       "<table border=\"1\" class=\"dataframe\">\n",
       "  <thead>\n",
       "    <tr style=\"text-align: right;\">\n",
       "      <th></th>\n",
       "      <th>count</th>\n",
       "      <th>mean</th>\n",
       "      <th>std</th>\n",
       "      <th>min</th>\n",
       "      <th>25%</th>\n",
       "      <th>50%</th>\n",
       "      <th>75%</th>\n",
       "      <th>max</th>\n",
       "    </tr>\n",
       "    <tr>\n",
       "      <th>loan_status</th>\n",
       "      <th></th>\n",
       "      <th></th>\n",
       "      <th></th>\n",
       "      <th></th>\n",
       "      <th></th>\n",
       "      <th></th>\n",
       "      <th></th>\n",
       "      <th></th>\n",
       "    </tr>\n",
       "  </thead>\n",
       "  <tbody>\n",
       "    <tr>\n",
       "      <th>Charged Off</th>\n",
       "      <td>5627.0</td>\n",
       "      <td>0.073732</td>\n",
       "      <td>0.042959</td>\n",
       "      <td>0.001664</td>\n",
       "      <td>0.039982</td>\n",
       "      <td>0.066312</td>\n",
       "      <td>0.100520</td>\n",
       "      <td>0.297558</td>\n",
       "    </tr>\n",
       "    <tr>\n",
       "      <th>Current</th>\n",
       "      <td>1140.0</td>\n",
       "      <td>0.071832</td>\n",
       "      <td>0.037046</td>\n",
       "      <td>0.003141</td>\n",
       "      <td>0.043738</td>\n",
       "      <td>0.067026</td>\n",
       "      <td>0.095708</td>\n",
       "      <td>0.244694</td>\n",
       "    </tr>\n",
       "    <tr>\n",
       "      <th>Fully Paid</th>\n",
       "      <td>32950.0</td>\n",
       "      <td>0.064238</td>\n",
       "      <td>0.039371</td>\n",
       "      <td>0.000289</td>\n",
       "      <td>0.034264</td>\n",
       "      <td>0.056299</td>\n",
       "      <td>0.086171</td>\n",
       "      <td>0.320262</td>\n",
       "    </tr>\n",
       "  </tbody>\n",
       "</table>\n",
       "</div>"
      ],
      "text/plain": [
       "               count      mean       std       min       25%       50%  \\\n",
       "loan_status                                                              \n",
       "Charged Off   5627.0  0.073732  0.042959  0.001664  0.039982  0.066312   \n",
       "Current       1140.0  0.071832  0.037046  0.003141  0.043738  0.067026   \n",
       "Fully Paid   32950.0  0.064238  0.039371  0.000289  0.034264  0.056299   \n",
       "\n",
       "                  75%       max  \n",
       "loan_status                      \n",
       "Charged Off  0.100520  0.297558  \n",
       "Current      0.095708  0.244694  \n",
       "Fully Paid   0.086171  0.320262  "
      ]
     },
     "execution_count": 365,
     "metadata": {},
     "output_type": "execute_result"
    }
   ],
   "source": [
    "df.groupby('loan_status')['install_inc_ratio'].describe()"
   ]
  },
  {
   "cell_type": "code",
   "execution_count": 367,
   "metadata": {},
   "outputs": [
    {
     "data": {
      "image/png": "[encoded data removed]",
      "text/plain": [
       "<Figure size 720x720 with 1 Axes>"
      ]
     },
     "metadata": {
      "needs_background": "light"
     },
     "output_type": "display_data"
    }
   ],
   "source": [
    "boxplt('install_inc_ratio', 'Installment-Monthly Income Ratio')"
   ]
  },
  {
   "cell_type": "markdown",
   "metadata": {},
   "source": [
    "While Fully Paid has a lower median and quartile ratio than Charged Off, the difference isn't large enough to be significant."
   ]
  }
 ],
 "metadata": {
  "kernelspec": {
   "display_name": "Python 3",
   "language": "python",
   "name": "python3"
  },
  "language_info": {
   "codemirror_mode": {
    "name": "ipython",
    "version": 3
   },
   "file_extension": ".py",
   "mimetype": "text/x-python",
   "name": "python",
   "nbconvert_exporter": "python",
   "pygments_lexer": "ipython3",
   "version": "3.9.19"
  }
 },
 "nbformat": 4,
 "nbformat_minor": 2
}
